{
  "nbformat": 4,
  "nbformat_minor": 0,
  "metadata": {
    "colab": {
      "name": "mec647_TP-Notes.ipynb",
      "provenance": [],
      "collapsed_sections": [],
      "include_colab_link": true
    },
    "kernelspec": {
      "name": "python3",
      "display_name": "Python 3"
    },
    "language_info": {
      "name": "python"
    }
  },
  "cells": [
    {
      "cell_type": "markdown",
      "metadata": {
        "id": "view-in-github",
        "colab_type": "text"
      },
      "source": [
        "<a href=\"https://colab.research.google.com/github/kumiori/mec647/blob/igor-branche-2/mec647_TP_Notes.ipynb\" target=\"_parent\"><img src=\"https://colab.research.google.com/assets/colab-badge.svg\" alt=\"Open In Colab\"/></a>"
      ]
    },
    {
      "cell_type": "markdown",
      "source": [
        "##ESTABLISHING CONNECTION OF THE COLAB WITH DOLFINX/FENICSX/DOCKER\n",
        "\n",
        "\n",
        "\n"
      ],
      "metadata": {
        "id": "VSuepV3rw7BH"
      }
    },
    {
      "cell_type": "code",
      "execution_count": 2,
      "metadata": {
        "id": "NudXugSpxSzy"
      },
      "outputs": [],
      "source": [
        "%%capture\n",
        "import sys\n",
        "\n",
        "try:\n",
        "    import google.colab  # noqa: F401\n",
        "except ImportError:\n",
        "    import ufl  # noqa: F401\n",
        "    import dolfinx  # noqa: F401\n",
        "else:\n",
        "    try:\n",
        "        import ufl\n",
        "        import dolfinx\n",
        "    except ImportError:\n",
        "        !wget \"https://fem-on-colab.github.io/releases/fenicsx-install.sh\" -O \"/tmp/fenicsx-install.sh\" && bash \"/tmp/fenicsx-install.sh\";\n",
        "        import ufl  # noqa: F401\n",
        "        import dolfinx  # noqa: F401"
      ]
    },
    {
      "cell_type": "code",
      "source": [
        "%%capture\n",
        "!sudo apt install libgl1-mesa-glx xvfb;\n",
        "!{sys.executable} -m pip install pythreejs;\n",
        "!{sys.executable} -m pip install ipygany;\n",
        "!{sys.executable} -m pip install --upgrade pyyaml\n",
        "try:\n",
        "    import google.colab\n",
        "except ImportError:\n",
        "    pass\n",
        "else:\n",
        "    pass\n",
        "    # google.colab.output.enable_custom_widget_manager();\n",
        "try:\n",
        "    import pyvista\n",
        "except ImportError:\n",
        "    !pip3 install --upgrade pyvista itkwidgets;\n",
        "    import pyvista  # noqa: F401\n",
        "    from pyvista.utilities import xvfb"
      ],
      "metadata": {
        "id": "7Sfwa68oxYgh"
      },
      "execution_count": 3,
      "outputs": []
    },
    {
      "cell_type": "markdown",
      "source": [
        "# The problem of elasticity\n",
        "\n",
        "\n",
        "Let $\\Omega \\subset (0, L)^D$, with $D=1, 2, 3$, $L$ finite, being the (or one) characteristic length of the specimen. For any $u\\in V_t : H^1(\\Omega, R^n) + bcs(t)$ with $n=1, 2$ or $3$, consider the energy $E(u)$ defined as\n",
        "$$\n",
        "E(u)=\\frac{1}{2}\\int_\\Omega A e(u): e(u) dx - \\int_\\Omega f.u dx$$\n",
        "Above, $A$ is the 4-th order tensor of elasticity, in the isotropic and homogeneous case, it corresponds to a linear combination with two coefficients, say, $A_0$ the stiffness (dimensional), and $\\nu$ the Poisson ratio (non-dimensional). \n",
        "\n",
        "We solve:\n",
        "$$min \\left\\{ E(u):  u \\in V_t\\right\\}$$. \n",
        "\n",
        "From a mechanical  standpoint, linear elasticity is the limit regime of small deformations of the general, fully nonlinear, problem of elasticity.  \n",
        "From a mathematical standpoint, the minimisation problem above is a standard variational problem which is i) convex, ii) defined on a complete, compact,  vector space of functions, and iii) . Its solution is unique and depends continuously upon the data. Can you show this?  \n",
        "\n",
        "Boundary conditions are such that equilibrium ...\n",
        "\n",
        "The interest of the above is that $E(u)$ ...\n"
      ],
      "metadata": {
        "id": "MU0B8LEU-soU"
      }
    },
    {
      "cell_type": "markdown",
      "source": [
        "## A priori, we include the necessary libraries to run the simulation"
      ],
      "metadata": {
        "id": "WaPqCJYyxDfO"
      }
    },
    {
      "cell_type": "code",
      "source": [
        "#Numpy -> numerical library for Python. We'll use it for all array operations.\n",
        "#It's written in C and it's faster (than traditional Python)\n",
        "import numpy as np\n",
        "\n",
        "#Yaml (Yet another markup language) -> We'll use it to pass, read and structure\n",
        "#light text data in .yml files.\n",
        "import yaml\n",
        "\n",
        "#Json -> Another form to work with data. It comes from JavaScript. Similar functions\n",
        "#that Yaml. Used speacily with API request, when we need data \"fetch\".\n",
        "import json\n",
        "\n",
        "#Communication with the machine:\n",
        "#Sys -> allows to acess the system and launch commandes.\n",
        "#Os - > allows to acess the operation system.\n",
        "import sys\n",
        "#sys.path.append('../') #-> this serves to add a path to the code search for things\n",
        "import os\n",
        "from pathlib import Path\n",
        "\n",
        "#pdb -> usefull for debugging, it can stop a code operation and allows to read \n",
        "#variables and do calculations\n",
        "import pdb\n",
        "#pdb.set_trace() #-> point of stop for debugging\n",
        "\n",
        "#Mpi4py -> Interface that allows parallel interoperability. MPI stands for' Message\n",
        "#Passager Interface' and will be used to communicate computer nodes when lauching code\n",
        "#in a parallel way\n",
        "from mpi4py import MPI\n",
        "#Petcs4py -> we use this library to handle with the data. Given acesses to solvers\n",
        "import petsc4py\n",
        "from petsc4py import PETSc\n",
        "\n",
        "#Dolfinx\n",
        "import dolfinx\n",
        "import dolfinx.plot\n",
        "from dolfinx import log\n",
        "import logging\n",
        "\n",
        "logging.basicConfig(level=logging.INFO)\n",
        "\n",
        "import dolfinx\n",
        "import dolfinx.plot\n",
        "import dolfinx.io\n",
        "from dolfinx.fem import (\n",
        "    Constant,\n",
        "    Function,\n",
        "    FunctionSpace,\n",
        "    assemble_scalar,\n",
        "    dirichletbc,\n",
        "    form,\n",
        "    locate_dofs_geometrical,\n",
        "    set_bc,\n",
        ")\n",
        "\n",
        "#UFL (Unified Format Language) -> we'll be used to represent abstract way to \n",
        "#represent the language in a quadratic form\n",
        "import ufl\n",
        "\n",
        "#XDMFF -> format used for the output binary data\n",
        "from dolfinx.io import XDMFFile\n",
        "\n",
        "#Install 'gmsh' library -> we'll be used for the mesh.\n",
        "#!{sys.executable}: to use the current kernel to make the installation \n",
        "try:\n",
        "    import gmsh\n",
        "except ImportError:\n",
        "    !{sys.executable} -m pip install gmsh\n",
        "    import gmsh\n",
        "\n",
        "import matplotlib.pyplot as plt"
      ],
      "metadata": {
        "id": "tZ9egFUuxEGq"
      },
      "execution_count": 4,
      "outputs": []
    },
    {
      "cell_type": "markdown",
      "source": [
        "## Clone the directory and files present in the GitHub to the colab document\n",
        "In the GItHub, there are functions and 'libraries' needed to the simulation, such as the solver itself."
      ],
      "metadata": {
        "id": "LoBjN_HCalXr"
      }
    },
    {
      "cell_type": "code",
      "source": [
        "try:\n",
        "  !git clone https://github.com/kumiori/mec647.git\n",
        "  sys.path.append('mec647/') #Change the execution directory to the copied one\n",
        "                              # from GitHub\n",
        "except:\n",
        "  pass"
      ],
      "metadata": {
        "colab": {
          "base_uri": "https://localhost:8080/"
        },
        "id": "s9PP1aUIyUKC",
        "outputId": "c4744d12-3a2b-4a32-ebf2-4903556d7ea7"
      },
      "execution_count": 5,
      "outputs": [
        {
          "output_type": "stream",
          "name": "stdout",
          "text": [
            "fatal: destination path 'mec647' already exists and is not an empty directory.\n"
          ]
        }
      ]
    },
    {
      "cell_type": "code",
      "source": [
        "# meshes\n",
        "import meshes\n",
        "from meshes import primitives\n",
        "\n",
        "# visualisation\n",
        "from utils import viz\n",
        "import matplotlib.pyplot as plt\n",
        "from utils.viz import plot_mesh, plot_vector, plot_scalar"
      ],
      "metadata": {
        "id": "ouVbQ32XUpnp"
      },
      "execution_count": 6,
      "outputs": []
    },
    {
      "cell_type": "markdown",
      "source": [
        "## Defining parameters\n",
        "In this section, the parameters necessary to be precissed by the user in order to run the simulation, such as material propreties, loading, geometry, etc., are defined. The parameters are defined using dictionaries.\n",
        "\n",
        "- Two elasticity parameters, such as\n",
        "  - $A_0$ the stiffness of the sound material\n",
        "  - $\\nu$ the Poisson ratio\n",
        "  - equivalently, $\\mu, \\lambda$ the Lamé parameters\n",
        "- Two fracture/damage parameters:\n",
        "  - $\\ell$ the internal damage length\n",
        "  - $G_c$ the material toughness\n"
      ],
      "metadata": {
        "id": "h5uzqK4HbI5D"
      }
    },
    {
      "cell_type": "code",
      "source": [
        "# Parameters\n",
        "\n",
        "parameters = {\n",
        "    #In case of evolution (nonlinear) problems, it's necessary to define a max\n",
        "    #and a min. For the elastic solution, just one value in needed.\n",
        "    'loading': {\n",
        "        'min': 0,\n",
        "        'max': 1.3,\n",
        "        'steps': 10\n",
        "    },\n",
        "    'geometry': {\n",
        "        'geom_type': 'bar',\n",
        "        'Lx': 1.,\n",
        "        'Ly': 0.1\n",
        "    },\n",
        "    'model': {\n",
        "        'E': 1.0,\n",
        "        'nu': 0.3,\n",
        "        'w1': 1.,\n",
        "        'ell': 0.5,\n",
        "        'k_res': 1.e-8\n",
        "    },\n",
        "    'solvers': {\n",
        "          'elasticity': {        \n",
        "            'snes': {\n",
        "                'snes_type': 'newtontr',\n",
        "                'snes_stol': 1e-8,\n",
        "                'snes_atol': 1e-8,\n",
        "                'snes_rtol': 1e-8,\n",
        "                'snes_max_it': 100,\n",
        "                'snes_monitor': \"\",\n",
        "                'ksp_type': 'preonly',\n",
        "                'pc_type': 'lu',\n",
        "                'pc_factor_mat_solver_type': 'mumps'\n",
        "            }\n",
        "        },\n",
        "          'damage': {        \n",
        "            'snes': {\n",
        "                'snes_type': 'vinewtonrsls',\n",
        "                'snes_stol': 1e-5,\n",
        "                'snes_atol': 1e-5,\n",
        "                'snes_rtol': 1e-8,\n",
        "                'snes_max_it': 100,\n",
        "                'snes_monitor': \"\",\n",
        "                'ksp_type': 'preonly',\n",
        "                'pc_type': 'lu',\n",
        "                'pc_factor_mat_solver_type': 'mumps'\n",
        "            },\n",
        "        },\n",
        "                'damage_elasticity': {\n",
        "                \"max_it\": 100,\n",
        "                \"alpha_rtol\": 1.0e-5,\n",
        "                \"criterion\": \"alpha_H1\"\n",
        "            }\n",
        "    }\n",
        "}\n",
        "\n",
        "# parameters.get('loading') -> this parameters can be defined and obtained from\n",
        "# a external file. In the first exemple (mec647_VI_1), the parameters were\n",
        "# read from a .yml file."
      ],
      "metadata": {
        "id": "xYNJNfNnzb2l"
      },
      "execution_count": 50,
      "outputs": []
    },
    {
      "cell_type": "code",
      "source": [
        "# # Mesh\n",
        "# Lx = parameters[\"geometry\"][\"Lx\"]\n",
        "# Ly = parameters[\"geometry\"][\"Ly\"]\n",
        "# geom_type = parameters[\"geometry\"][\"geom_type\"]\n",
        "\n",
        "# #When excuting this next import, we automatically import all functions present in \n",
        "# #'__init__.py'. Within this code, there are 2 really important to generate the \n",
        "# #mesh for the simulation: 'read_from_msh' (Reads a mesh from a msh-file and \n",
        "# #returns the dolfin-x mesh) and 'gmsh_model_to_mesh' (Given a GMSH model, create\n",
        "# #a DOLFIN-X mesh and MeshTags).\n",
        "# import meshes\n",
        "# #dir(meshes) -> to see what's inside of the 'meshes' routine. Similar to 'ls'(for\n",
        "# #Linux) or 'cd' (for Windows).\n",
        "\n",
        "# #This next import, allows to generates simples GMSH model given the parameters\n",
        "# #necessary. \n",
        "# from meshes import primitives\n",
        "\n",
        "# #mesh_bar_gmshapi -> Create mesh of 3d tensile test specimen according to ISO \n",
        "# #6892-1:2019 using the Python API of Gmsh.\n",
        "\n",
        "# gmsh_model, tdim = primitives.mesh_bar_gmshapi(geom_type,\n",
        "#                                     Lx, \n",
        "#                                     Ly, \n",
        "#                                     0.1, \n",
        "#                                     tdim=2)\n",
        "\n",
        "# mesh, mts = meshes.gmsh_model_to_mesh(gmsh_model,\n",
        "#                                cell_data=False,\n",
        "#                                facet_data=True,\n",
        "#                                gdim=2)\n",
        "# import matplotlib as plt\n",
        "# #Plot mesh\n",
        "# plt.figure()\n",
        "# ax = plot_mesh(mesh)\n",
        "# fig = ax.get_figure()\n",
        "# fig.savefig(f\"mesh.png\")\n"
      ],
      "metadata": {
        "id": "jP0N2XxL0Prl"
      },
      "execution_count": 7,
      "outputs": []
    },
    {
      "cell_type": "code",
      "source": [
        "def mesh_V(\n",
        "a,\n",
        "h,\n",
        "L,\n",
        "gamma,\n",
        "de,\n",
        "de2,\n",
        "key=0,\n",
        "show=False,\n",
        "filename='mesh.unv',\n",
        "order = 1,\n",
        "):\n",
        "    \"\"\"\n",
        "    Create a 2D mesh of a notched three-point flexure specimen using GMSH.\n",
        "    a = height of the notch\n",
        "    h = height of the specimen\n",
        "    L = width of the specimen\n",
        "    gamma = notch angle\n",
        "    de = density of elements at specimen\n",
        "    de2 = density of elements at the notch and crack\n",
        "    key = 0 -> create model for Fenicxs (default)\n",
        "          1 -> create model for Cast3M\n",
        "    show = False -> doesn't open Gmsh to vizualise the mesh (default)\n",
        "           True -> open Gmsh to vizualise the mesh\n",
        "    filename = name and format of the output file for key = 1 \n",
        "    order = order of the function of form\n",
        "    \"\"\"\n",
        "    gmsh.initialize()\n",
        "    gmsh.option.setNumber(\"General.Terminal\",1)\n",
        "    gmsh.option.setNumber(\"Mesh.Algorithm\",5)\n",
        "    hopen = a*np.tan((gamma/2.0)*np.pi/180)\n",
        "    c0 = h/40\n",
        "    load_len = min(h/40, L/80)\n",
        "    tdim = 2 \n",
        "    \n",
        "    model = gmsh.model()\n",
        "    model.add('TPB')\n",
        "    model.setCurrent('TPB')\n",
        "    #Generating the points of the geometrie\n",
        "    p0 = model.geo.addPoint(0.0, a, 0.0, de2, tag=0)\n",
        "    p1 = model.geo.addPoint(hopen, 0.0, 0.0, de, tag=1)\n",
        "    p2 = model.geo.addPoint(L/2, 0.0, 0.0, de, tag=2)\n",
        "    p3 = model.geo.addPoint(L/2, h, 0.0, de, tag=3)\n",
        "    p4 = model.geo.addPoint(0.0, h, 0.0, de, tag=4)\n",
        "    if key == 0:\n",
        "        p5 = model.geo.addPoint(-L/2, h, 0.0, de, tag=5)\n",
        "        p6 = model.geo.addPoint(-L/2, 0.0, 0.0, de, tag=6)\n",
        "        p7 = model.geo.addPoint(-hopen, 0.0, 0.0, de, tag=7)\n",
        "        #Load facet\n",
        "        p21 = model.geo.addPoint(load_len, h, 0.0, de, tag=30)\n",
        "        p22 = model.geo.addPoint(-load_len, h, 0.0, de, tag=31)\n",
        "    elif key == 1:\n",
        "        p20 = model.geo.addPoint(0, a+c0, 0, de2, tag=20)\n",
        "    #Creating the lines by connecting the points\n",
        "    notch_right = model.geo.addLine(p0, p1, tag=8) \n",
        "    bot_right = model.geo.addLine(p1, p2, tag=9)\n",
        "    right = model.geo.addLine(p2, p3, tag=10)\n",
        "    #top_right = model.geo.addLine(p3, p4, tag=11)\n",
        "    if key == 0:\n",
        "        top_right = model.geo.addLine(p3, p21, tag=11)\n",
        "        top_left = model.geo.addLine(p22, p5, tag=12)\n",
        "        left = model.geo.addLine(p5, p6, tag=13)\n",
        "        bot_left = model.geo.addLine(p6, p7, tag=14)\n",
        "        notch_left = model.geo.addLine(p7, p0, tag=15)\n",
        "        #Load facet\n",
        "        load_right = model.geo.addLine(p21, p4, tag=32)\n",
        "        load_left = model.geo.addLine(p4, p22, tag=33)\n",
        "    elif key == 1:\n",
        "        top_right = model.geo.addLine(p3, p4, tag=11)\n",
        "        sym_plan = model.geo.addLine(p4, p20, tag=21)\n",
        "        fissure = model.geo.addLine(p20, p0, tag=22)\n",
        "    #Creating the surface using the lines created\n",
        "    if key == 0:\n",
        "        perimeter = model.geo.addCurveLoop([notch_right, bot_right, right, top_right, load_right, load_left, top_left, left, bot_left, notch_left])\n",
        "    elif key == 1:\n",
        "        perimeter = model.geo.addCurveLoop([notch_right, bot_right, right, top_right, sym_plan, fissure])\n",
        "    surface = model.geo.addPlaneSurface([perimeter])\n",
        "    #model.geo.addSurfaceLoop([surface,16])\n",
        "    model.mesh.setOrder(order)\n",
        "    \n",
        "    #Creating Physical Groups to extract data from the geometrie\n",
        "    if key == 0:\n",
        "        gmsh.model.addPhysicalGroup(tdim-1, [left], tag = 101)\n",
        "        gmsh.model.setPhysicalName(tdim-1, 101,'Left')\n",
        "\n",
        "        gmsh.model.addPhysicalGroup(tdim-1, [right], tag=102)\n",
        "        gmsh.model.setPhysicalName(tdim-1, 102,'Right')\n",
        "\n",
        "        gmsh.model.addPhysicalGroup(tdim-2, [p6], tag=103)\n",
        "        gmsh.model.setPhysicalName(tdim-2, 103,'Left_point')\n",
        "\n",
        "        gmsh.model.addPhysicalGroup(tdim-2, [p2], tag=104)\n",
        "        gmsh.model.setPhysicalName(tdim-2, 104,'Right_point')\n",
        "\n",
        "        gmsh.model.addPhysicalGroup(tdim-2, [p4], tag=105)\n",
        "        gmsh.model.setPhysicalName(tdim-2, 105, 'Load_point')\n",
        "\n",
        "        gmsh.model.addPhysicalGroup(tdim-2, [p0], tag=106)\n",
        "        gmsh.model.setPhysicalName(tdim-2, 106, 'Notch_point')\n",
        "\n",
        "        gmsh.model.addPhysicalGroup(tdim-1, [load_right], tag=107)\n",
        "        gmsh.model.setPhysicalName(tdim-1, 107, 'load_right')\n",
        "\n",
        "        gmsh.model.addPhysicalGroup(tdim-1, [load_left], tag=108)\n",
        "        gmsh.model.setPhysicalName(tdim-1, 108, 'load_left')\n",
        "\n",
        "        gmsh.model.addPhysicalGroup(tdim, [surface],tag=110)\n",
        "        gmsh.model.setPhysicalName(tdim, 110, 'mesh_surface')\n",
        "   \n",
        "    #Cast3M can't read Physical Groups of points (dim = 0). Instead, we check the number in the mesh and input in manually in the code.\n",
        "    #The number of a node doesn't change if it's in a point of the geometry\n",
        "    if key == 1:\n",
        "        gmsh.model.addPhysicalGroup(tdim, [surface],tag=110)\n",
        "        gmsh.model.setPhysicalName(tdim, 110, 'mesh_surface')\n",
        "\n",
        "        gmsh.model.addPhysicalGroup(tdim-1, [fissure], tag=111)\n",
        "        gmsh.model.setPhysicalName(tdim-1, 111, 'fissure')\n",
        "\n",
        "        gmsh.model.addPhysicalGroup(tdim-1, [sym_plan], tag=112)\n",
        "        gmsh.model.setPhysicalName(tdim-1, 112, 'sym_plan')\n",
        "\n",
        "        #gmsh.model.addPhysicalGroup(tdim-2, [p20], tag=113)\n",
        "        #gmsh.model.setPhysicalName(tdim-2, 113, 'Crack_tip')\n",
        "\n",
        "        #gmsh.model.addPhysicalGroup(tdim-2, [p4], tag=114)\n",
        "        #gmsh.model.setPhysicalName(tdim-2, 114, 'Load_point')\n",
        "\n",
        "        #gmsh.model.addPhysicalGroup(tdim-2, [p2], tag=115)\n",
        "        #gmsh.model.setPhysicalName(tdim-2, 115,'Right_point')   \n",
        "    #Generating the mesh\n",
        "    model.geo.synchronize()\n",
        "    model.mesh.generate(tdim)\n",
        "    if show:\n",
        "        gmsh.fltk.run()\n",
        "    if key == 1:\n",
        "        gmsh.write(filename)\n",
        "    return gmsh.model"
      ],
      "metadata": {
        "id": "XD0aqbARlCYv"
      },
      "execution_count": 8,
      "outputs": []
    },
    {
      "cell_type": "code",
      "source": [
        "a=0.00533\n",
        "h=0.0178\n",
        "L=0.0762\n",
        "gamma = 90\n",
        "de = a/5\n",
        "de2 = a/10\n",
        "gmsh_model = mesh_V(a, h, L, gamma, de, de2)\n",
        "#In this moment, it could be necessary to get the data of the cells and facets\n",
        "#In this case, we are taking info of the facets so that we can define subdomains\n",
        "#in order to apply Newman Bondary conditions, which means that is a condition \n",
        "#applied not in the displacement (variable of interest), but in the correspond\n",
        "#variable (in this case, force/pressure)\n",
        "mesh,facet_tags = meshes.gmsh_model_to_mesh(gmsh_model,\n",
        "                                          cell_data=False,\n",
        "                                          facet_data=True,\n",
        "                                          gdim=2)"
      ],
      "metadata": {
        "id": "YfljssbKmSpp"
      },
      "execution_count": 9,
      "outputs": []
    },
    {
      "cell_type": "code",
      "source": [
        "#Plot mesh\n",
        "plt.figure()\n",
        "ax = plot_mesh(mesh)\n",
        "fig = ax.get_figure()\n",
        "fig.savefig(f\"mesh.png\")"
      ],
      "metadata": {
        "id": "axvpAkrdtU3i",
        "colab": {
          "base_uri": "https://localhost:8080/",
          "height": 125
        },
        "outputId": "2ca81219-5ffc-450b-bed3-9523c0ebe483"
      },
      "execution_count": 10,
      "outputs": [
        {
          "output_type": "display_data",
          "data": {
            "image/png": "[encoded data removed]",
            "text/plain": [
              "<Figure size 432x288 with 1 Axes>"
            ]
          },
          "metadata": {
            "needs_background": "light"
          }
        }
      ]
    },
    {
      "cell_type": "markdown",
      "source": [
        "## Defining the finite element type and others functional setting"
      ],
      "metadata": {
        "id": "mpgKI80amKvV"
      }
    },
    {
      "cell_type": "code",
      "source": [
        "V_u.sub?"
      ],
      "metadata": {
        "id": "Vrp6hnOtVjpN",
        "colab": {
          "base_uri": "https://localhost:8080/"
        },
        "outputId": "5d444107-83ec-46a3-f4b7-649bff2b3850"
      },
      "execution_count": 11,
      "outputs": [
        {
          "output_type": "stream",
          "name": "stdout",
          "text": [
            "Object `V_u.sub` not found.\n"
          ]
        }
      ]
    },
    {
      "cell_type": "code",
      "source": [
        "yV_u = V_u.sub(1)"
      ],
      "metadata": {
        "id": "yagfp0dbV44V",
        "colab": {
          "base_uri": "https://localhost:8080/",
          "height": 172
        },
        "outputId": "20318b64-5d9f-44a9-850c-f707eef451f6"
      },
      "execution_count": 12,
      "outputs": [
        {
          "output_type": "error",
          "ename": "NameError",
          "evalue": "ignored",
          "traceback": [
            "\u001b[0;31m---------------------------------------------------------------------------\u001b[0m",
            "\u001b[0;31mNameError\u001b[0m                                 Traceback (most recent call last)",
            "\u001b[0;32m<ipython-input-12-5de469120dfd>\u001b[0m in \u001b[0;36m<module>\u001b[0;34m()\u001b[0m\n\u001b[0;32m----> 1\u001b[0;31m \u001b[0myV_u\u001b[0m \u001b[0;34m=\u001b[0m \u001b[0mV_u\u001b[0m\u001b[0;34m.\u001b[0m\u001b[0msub\u001b[0m\u001b[0;34m(\u001b[0m\u001b[0;36m1\u001b[0m\u001b[0;34m)\u001b[0m\u001b[0;34m\u001b[0m\u001b[0;34m\u001b[0m\u001b[0m\n\u001b[0m",
            "\u001b[0;31mNameError\u001b[0m: name 'V_u' is not defined"
          ]
        }
      ]
    },
    {
      "cell_type": "code",
      "source": [
        "# Functional setting\n",
        "#'u' represents the displacement in this problem. In order to solve it, the \n",
        "#continuos field  'u' is replaced by a discrite form u = som[vec(function_forme)\n",
        "#*vec(nodal_displacement)]\n",
        "#In order to define the vec(function_forme), the ufl library is used. \n",
        "\n",
        "#A VectorElement represents a combination of basic elements such that each\n",
        "#component of a vector is represented by the basic element. The size is usually\n",
        "#omitted, the default size equals the geometry dimension.\n",
        "\n",
        "#ulf.VectorElement(<Type of the element>, <Geometry of the element>, \n",
        "#degree=<Degree of element: 1 - Linear, 2 - Quadratic, etc.>, dim= <Target \n",
        "#dimension of the element: 1 - Line, 2 - Area, 3 - Volume>)\n",
        "\n",
        "#Lagrange is a familly type of elements -> polynomial functions of forme;\n",
        "#The Lagrange elements are going to be defined in the mesh as such we take the\n",
        "#geometry of elements present in the mesh.\n",
        "\n",
        "element_u = ufl.VectorElement(\"Lagrange\", mesh.ufl_cell(),\n",
        "                              degree=1, dim=2)\n",
        "\n",
        "#After defining the Finite Element in ufl, a association with dolfinx is made.\n",
        "#To inputs are necessary, the mesh and the element type created. In some sense, \n",
        "#we obtain the \"discretised model w/ elements definied\".\n",
        "V_u = dolfinx.fem.FunctionSpace(mesh, element_u) \n",
        "#In this model, we also defines functions necessaries to solve the problem. \n",
        "#This functions are definied in the entire space/model.\n",
        "u = dolfinx.fem.Function(V_u, name=\"Displacement\") #The discrete nodal valeus of\n",
        "                                                    #the displacement\n",
        "#In order to defined a function in a specific subspace of the model, it must be \n",
        "#specified in the model 'V_u.sub(i)', where i = 0 -> x, 1 -> y, 2-> z.\n",
        "#Don't forget to collapse, to choose only the DOF associated with the subspace.\n",
        "\n",
        "#I don't think  this part works to definy the body force applied in a geometry.\n",
        "#It could be better to define it in the energy definition as constant. If not a \n",
        "#constant, we might need to define as a space function.\n",
        "g = dolfinx.fem.Function(V_u, name=\"Body_pressure\")\n",
        "g.interpolate(lambda x: (np.zeros_like(x[0]), -78500*np.zeros_like(x[1])))"
      ],
      "metadata": {
        "id": "5ATiQASF3iuH"
      },
      "execution_count": 11,
      "outputs": []
    },
    {
      "cell_type": "code",
      "source": [
        "#Functions necessaries for the Bondary conditions\n",
        "# SCALAR BC\n",
        "zero = Function(V_u)\n",
        "# works in parallel!\n",
        "with zero.vector.localForm() as loc:\n",
        "    loc.set(0.0)\n",
        "\n",
        "one = Function(V_u)\n",
        "# works in parallel!\n",
        "with one.vector.localForm() as loc:\n",
        "    loc.set(1.0)\n"
      ],
      "metadata": {
        "id": "khTDSkR_PA5l"
      },
      "execution_count": null,
      "outputs": []
    },
    {
      "cell_type": "code",
      "source": [
        "#Functions necessaries for the Bondary conditions\n",
        "#FOR VECTORS\n",
        "u_ = dolfinx.fem.Function(V_u, name=\"Boundary_displacement\")\n",
        "#In order to defined a function in a specific subspace of the model, it must be \n",
        "#specified in the model 'V_u.sub(i)', where i = 0 -> x, 1 -> y, 2-> z.\n",
        "#Don't forget to collapse, to choose only the DOF associated with the subspace.\n",
        "# ux_ = dolfinx.fem.Function(V_u.sub(0).collapse(), name=\"Boundary Displacement\")\n",
        "\n",
        "#For 1 in the x-direction and 0 at y-direction:\n",
        "#u_.interpolate(lambda x: (np.ones_like(x[0]), np.zeros_like(x[1])))\n",
        "\n",
        "#For 0 at x and y-direction:\n",
        "u_.interpolate(lambda x: (np.zeros_like(x[0]), np.zeros_like(x[1])))\n"
      ],
      "metadata": {
        "id": "B-x_BOOKALTx"
      },
      "execution_count": 12,
      "outputs": []
    },
    {
      "cell_type": "markdown",
      "source": [
        "##Defining  the energy function"
      ],
      "metadata": {
        "id": "O_MmrNqmxuAf"
      }
    },
    {
      "cell_type": "code",
      "source": [
        "# Integral measures -> in order to define the energy lately, it's necessary to \n",
        "#define the integral measures, as such one is a integral.\n",
        "dx = ufl.Measure(\"dx\", domain=mesh) #-> volume measure\n",
        "#We include here the subdomain data generated at the gmsh file.\n",
        "ds = ufl.Measure(\"ds\", subdomain_data = facet_tags, domain=mesh) #-> surface measure\n",
        "#ds(<number of the facet tags>)\n",
        "#dS = ufl.Measure(\"dS\", domain = mesh) - inner boundaries of the mesh -> not usefull\n"
      ],
      "metadata": {
        "id": "hvdpZ8j25cAC"
      },
      "execution_count": 13,
      "outputs": []
    },
    {
      "cell_type": "code",
      "source": [
        "dx(1)"
      ],
      "metadata": {
        "id": "nQOfyEC6N2cm"
      },
      "execution_count": null,
      "outputs": []
    },
    {
      "cell_type": "code",
      "source": [
        "#Getting material parameters \n",
        "E = parameters[\"model\"][\"E\"]\n",
        "poisson = parameters[\"model\"][\"nu\"]\n",
        "mu = E/(2*(1+poisson))\n",
        "lmbda = E*poisson/((1+poisson)*(1-2*poisson)) #carefull, lambda is a reserved word in Py\n",
        "\n",
        "#Getting load\n",
        "force = dolfinx.fem.Function(V_u, name=\"Contact_force\")\n",
        "loading_force = -1*parameters['loading']['max']\n",
        "force.interpolate(lambda x: (np.zeros_like(x[0]), loading_force*np.ones_like(x[1])))\n",
        "#Defining a function that returns a way to calculate the deformation, which is \n",
        "#symmetric part of the gradient of the displacement.\n",
        "def _e(u):\n",
        "  return ufl.sym(ufl.grad(u))\n",
        "\n",
        "en_density = 1/2 * (2*mu* ufl.inner(_e(u),_e(u))) + lmbda*ufl.tr(_e(u))**2\n",
        "energy = en_density * dx - ufl.dot(g, u) * dx - ufl.dot(force,u)*ds(107) - ufl.dot(force,u)*ds(108)"
      ],
      "metadata": {
        "id": "rKTBpiQp6gCk"
      },
      "execution_count": 51,
      "outputs": []
    },
    {
      "cell_type": "code",
      "source": [
        ""
      ],
      "metadata": {
        "id": "FK8-SBV8gNCu"
      },
      "execution_count": null,
      "outputs": []
    },
    {
      "cell_type": "code",
      "source": [
        ""
      ],
      "metadata": {
        "colab": {
          "base_uri": "https://localhost:8080/"
        },
        "id": "VMqMrOZqfn_-",
        "outputId": "f2d1f056-a4f7-4728-a474-88494bbf4535"
      },
      "execution_count": 24,
      "outputs": [
        {
          "output_type": "stream",
          "name": "stdout",
          "text": [
            "13000.0\n"
          ]
        }
      ]
    },
    {
      "cell_type": "markdown",
      "source": [
        "### Direchlet boundary condition\n",
        "Boundary entities, that is facets  of dimension $n-1$, are identified geometrically by ```locate_entities_boundary```. \n",
        "Its last argument is a function of the (discrete) point $x$ (here, ```left(x)``` and ```right(x)```) returning whether or not (```True/False```) the point belongs to the boundary.\n",
        "\n",
        "Here, the 'right_facets' and 'left_facets' returns the numbers of the nodes where the BCs is going to be applied. The functions has as input: the mesh, the dimension of the mesh you wanna apply the BC (1 for lines, 2 for surfaces and 3 for volumes) and a function that returns 'TRUE' if the point of the mesh is in the region you want to apply the BC."
      ],
      "metadata": {
        "id": "vgBbDWS30tqw"
      }
    },
    {
      "cell_type": "code",
      "source": [
        "# Boundary conditions at the left and right facets\n",
        "\n",
        "def left(x):\n",
        "  return np.isclose(x[0], -L/2)\n",
        "\n",
        "def right(x):\n",
        "  return np.isclose(x[0], L/2)\n",
        "\n",
        "left_facets = dolfinx.mesh.locate_entities_boundary(mesh, mesh.topology.dim - 1, left)\n",
        "left_dofs = dolfinx.fem.locate_dofs_topological(V_u, mesh.topology.dim - 1,\n",
        "                                                left_facets)\n",
        "\n",
        "right_facets = dolfinx.mesh.locate_entities_boundary(mesh, mesh.topology.dim - 1, right)\n",
        "right_dofs = dolfinx.fem.locate_dofs_topological(V_u, mesh.topology.dim - 1,\n",
        "                                                right_facets)\n",
        "\n",
        "bcs = [dirichletbc(zero, left_dofs), dirichletbc(zero, right_dofs)]\n",
        "\n",
        "left_facets\n",
        "left_dofs\n"
      ],
      "metadata": {
        "id": "ytXUWcFX8yHl"
      },
      "execution_count": null,
      "outputs": []
    },
    {
      "cell_type": "code",
      "source": [
        "#Function that returns 'TRUE' if the point of the mesh is in the region you want\n",
        "#to apply the BC.\n",
        "def BC_points(x):\n",
        "  #x[0] is the vector of X-coordinate of all points ; x[1] is the vector of Y-coordinate\n",
        "  return np.logical_and(\n",
        "      np.logical_or(np.isclose(x[0],-L/2),np.isclose(x[0],L/2)),\n",
        "      np.isclose(x[1],0))\n",
        "\n",
        "BC_entities = dolfinx.mesh.locate_entities_boundary(mesh, 0, BC_points)\n",
        "BC_dofs = dolfinx.fem.locate_dofs_topological(V_u, 0, BC_entities)\n",
        "\n",
        "bcs = [dirichletbc(u_, BC_dofs)]"
      ],
      "metadata": {
        "id": "_RRgZb5S-y1P"
      },
      "execution_count": 15,
      "outputs": []
    },
    {
      "cell_type": "markdown",
      "source": [
        "## The problem, the solver.\n",
        "\n",
        "The problem class ```SNESSolver``` gives access to (a range of) \n",
        "[Scalable Nonlinear Equations Solvers](https://petsc4py.readthedocs.io/en/stable/manual/snes/) setting up the necessary residual function (the energy gradient), a pointer to boundary conditions, and the interval bounds.\n",
        "\n",
        "\n",
        "Internally, ```SNESSolver``` computes the Jacobian of the energy function by automatic differentiation. Check ```mec647/solvers/__init__.py``` for the details."
      ],
      "metadata": {
        "id": "fdhGiYDP0y1n"
      }
    },
    {
      "cell_type": "code",
      "source": [
        "\n",
        "# solving\n",
        "from solvers import SNESSolver\n",
        "D_energy_u = ufl.derivative(energy, u, ufl.TestFunction(V_u))\n",
        "\n",
        "problem = SNESSolver(\n",
        "    D_energy_u,\n",
        "    u,\n",
        "    bcs,\n",
        "    bounds=None,\n",
        "    petsc_options=parameters.get(\"solvers\").get('elasticity').get(\"snes\"),\n",
        "    prefix=\"elast\",\n",
        ")\n",
        "\n",
        "\n",
        "problem.solve()\n"
      ],
      "metadata": {
        "id": "4OWbuLZQ-rQC",
        "colab": {
          "base_uri": "https://localhost:8080/"
        },
        "outputId": "5bf2f115-dd6d-47ba-e901-87fd617953a6"
      },
      "execution_count": 16,
      "outputs": [
        {
          "output_type": "stream",
          "name": "stdout",
          "text": [
            "  0 SNES Function norm 7.085149081000e+00 \n",
            "  1 SNES Function norm 4.018400695735e-12 \n"
          ]
        },
        {
          "output_type": "execute_result",
          "data": {
            "text/plain": [
              "(1, 2)"
            ]
          },
          "metadata": {},
          "execution_count": 16
        }
      ]
    },
    {
      "cell_type": "code",
      "source": [
        "\n",
        "def plot_vector(u, plotter, subplot=None):\n",
        "    if subplot:\n",
        "        plotter.subplot(subplot[0], subplot[1])\n",
        "    V = u.function_space\n",
        "    mesh = V.mesh\n",
        "    topology, cell_types, _ = dolfinx.plot.create_vtk_mesh(mesh, mesh.topology.dim)\n",
        "    num_dofs_local = u.function_space.dofmap.index_map.size_local\n",
        "    geometry = u.function_space.tabulate_dof_coordinates()[:num_dofs_local]\n",
        "    values = np.zeros((V.dofmap.index_map.size_local, 3), dtype=np.float64)\n",
        "    values[:, : mesh.geometry.dim] = u.vector.array.real.reshape(\n",
        "        V.dofmap.index_map.size_local, V.dofmap.index_map_bs\n",
        "    )\n",
        "    grid = pyvista.UnstructuredGrid(topology, cell_types, geometry)\n",
        "    grid[\"vectors\"] = values\n",
        "    grid.set_active_vectors(\"vectors\")\n",
        "    # geom = pyvista.Arrow()\n",
        "    # glyphs = grid.glyph(orient=\"vectors\", factor=1, geom=geom)\n",
        "    glyphs = grid.glyph(orient=\"vectors\", factor=1.0)\n",
        "    plotter.add_mesh(glyphs)\n",
        "    plotter.add_mesh(\n",
        "        grid, show_edges=True, color=\"black\", style=\"wireframe\", opacity=0.3\n",
        "    )\n",
        "    plotter.view_xy()\n",
        "    return plotter\n",
        "\n",
        "\n",
        "def plot_scalar(alpha, plotter, subplot=None, lineproperties={}):\n",
        "    if subplot:\n",
        "        plotter.subplot(subplot[0], subplot[1])\n",
        "    V = alpha.function_space\n",
        "    mesh = V.mesh\n",
        "    topology, cell_types, _ = dolfinx.plot.create_vtk_mesh(mesh, mesh.topology.dim)\n",
        "    grid = pyvista.UnstructuredGrid(topology, cell_types, mesh.geometry.x)\n",
        "\n",
        "    plotter.subplot(0, 0)\n",
        "    grid.point_data[\"alpha\"] = alpha.compute_point_values().real\n",
        "    grid.set_active_scalars(\"alpha\")\n",
        "    plotter.add_mesh(grid, **lineproperties)\n",
        "    plotter.view_xy()\n",
        "    return plotter\n"
      ],
      "metadata": {
        "id": "fnza-J4iw0zT"
      },
      "execution_count": 17,
      "outputs": []
    },
    {
      "cell_type": "code",
      "source": [
        "# plt.figure()\n",
        "# ax = plot_mesh(mesh)\n",
        "# fig = ax.get_figure()\n",
        "# fig.savefig(f\"mesh.png\")\n",
        "\n",
        "# postprocessing\n",
        "xvfb.start_xvfb(wait=0.05)\n",
        "pyvista.OFF_SCREEN = True\n",
        "plotter = pyvista.Plotter(\n",
        "        title=\"Displacement\",\n",
        "        window_size=[1600, 600],\n",
        "        shape=(1, 1),\n",
        "    )\n",
        "# plt = plot_scalar(u.sub(0), plotter, subplot=(0, 0))\n",
        "_plt = plot_vector(u, plotter, subplot=(0, 0))\n",
        "\n",
        "_plt.screenshot(f\"displacement_MPI.png\")"
      ],
      "metadata": {
        "colab": {
          "base_uri": "https://localhost:8080/",
          "height": 245
        },
        "id": "5saHgiLWxtMb",
        "outputId": "c608bd20-abe5-4e99-fc05-db1aa0bc694c"
      },
      "execution_count": 18,
      "outputs": [
        {
          "output_type": "error",
          "ename": "NameError",
          "evalue": "ignored",
          "traceback": [
            "\u001b[0;31m---------------------------------------------------------------------------\u001b[0m",
            "\u001b[0;31mNameError\u001b[0m                                 Traceback (most recent call last)",
            "\u001b[0;32m<ipython-input-18-8f24504dd7ac>\u001b[0m in \u001b[0;36m<module>\u001b[0;34m()\u001b[0m\n\u001b[1;32m      5\u001b[0m \u001b[0;34m\u001b[0m\u001b[0m\n\u001b[1;32m      6\u001b[0m \u001b[0;31m# postprocessing\u001b[0m\u001b[0;34m\u001b[0m\u001b[0;34m\u001b[0m\u001b[0;34m\u001b[0m\u001b[0m\n\u001b[0;32m----> 7\u001b[0;31m \u001b[0mxvfb\u001b[0m\u001b[0;34m.\u001b[0m\u001b[0mstart_xvfb\u001b[0m\u001b[0;34m(\u001b[0m\u001b[0mwait\u001b[0m\u001b[0;34m=\u001b[0m\u001b[0;36m0.05\u001b[0m\u001b[0;34m)\u001b[0m\u001b[0;34m\u001b[0m\u001b[0;34m\u001b[0m\u001b[0m\n\u001b[0m\u001b[1;32m      8\u001b[0m \u001b[0mpyvista\u001b[0m\u001b[0;34m.\u001b[0m\u001b[0mOFF_SCREEN\u001b[0m \u001b[0;34m=\u001b[0m \u001b[0;32mTrue\u001b[0m\u001b[0;34m\u001b[0m\u001b[0;34m\u001b[0m\u001b[0m\n\u001b[1;32m      9\u001b[0m plotter = pyvista.Plotter(\n",
            "\u001b[0;31mNameError\u001b[0m: name 'xvfb' is not defined"
          ]
        }
      ]
    },
    {
      "cell_type": "code",
      "source": [
        "# plt.figure()\n",
        "# ax = plot_mesh(mesh)\n",
        "# fig = ax.get_figure()\n",
        "# fig.savefig(f\"mesh.png\")\n",
        "\n",
        "# postprocessing\n",
        "plotter = pyvista.Plotter(\n",
        "        title=\"Displacement\",\n",
        "        window_size=[1600, 600],\n",
        "        shape=(1, 2),\n",
        "    )\n",
        "\n",
        "# _plt = plot_scalar(u_.sub(0), plotter, subplot=(0, 0))\n",
        "_plt = plot_vector(u, plotter, subplot=(0, 1))\n",
        "_plt.screenshot(f\"displacement_MPI.png\")"
      ],
      "metadata": {
        "id": "G6yaN_wLAmBA",
        "colab": {
          "base_uri": "https://localhost:8080/",
          "height": 356
        },
        "outputId": "f1f548f7-67b5-4867-f97d-de34381bc11a"
      },
      "execution_count": 19,
      "outputs": [
        {
          "output_type": "error",
          "ename": "RuntimeError",
          "evalue": "ignored",
          "traceback": [
            "\u001b[0;31m---------------------------------------------------------------------------\u001b[0m",
            "\u001b[0;31mRuntimeError\u001b[0m                              Traceback (most recent call last)",
            "\u001b[0;32m<ipython-input-19-240cbde89173>\u001b[0m in \u001b[0;36m<module>\u001b[0;34m()\u001b[0m\n\u001b[1;32m     13\u001b[0m \u001b[0;31m# _plt = plot_scalar(u_.sub(0), plotter, subplot=(0, 0))\u001b[0m\u001b[0;34m\u001b[0m\u001b[0;34m\u001b[0m\u001b[0;34m\u001b[0m\u001b[0m\n\u001b[1;32m     14\u001b[0m \u001b[0m_plt\u001b[0m \u001b[0;34m=\u001b[0m \u001b[0mplot_vector\u001b[0m\u001b[0;34m(\u001b[0m\u001b[0mu\u001b[0m\u001b[0;34m,\u001b[0m \u001b[0mplotter\u001b[0m\u001b[0;34m,\u001b[0m \u001b[0msubplot\u001b[0m\u001b[0;34m=\u001b[0m\u001b[0;34m(\u001b[0m\u001b[0;36m0\u001b[0m\u001b[0;34m,\u001b[0m \u001b[0;36m1\u001b[0m\u001b[0;34m)\u001b[0m\u001b[0;34m)\u001b[0m\u001b[0;34m\u001b[0m\u001b[0;34m\u001b[0m\u001b[0m\n\u001b[0;32m---> 15\u001b[0;31m \u001b[0m_plt\u001b[0m\u001b[0;34m.\u001b[0m\u001b[0mscreenshot\u001b[0m\u001b[0;34m(\u001b[0m\u001b[0;34mf\"displacement_MPI.png\"\u001b[0m\u001b[0;34m)\u001b[0m\u001b[0;34m\u001b[0m\u001b[0;34m\u001b[0m\u001b[0m\n\u001b[0m",
            "\u001b[0;32m/usr/local/lib/python3.7/dist-packages/pyvista/plotting/plotting.py\u001b[0m in \u001b[0;36mscreenshot\u001b[0;34m(self, filename, transparent_background, return_img, window_size)\u001b[0m\n\u001b[1;32m   3913\u001b[0m \u001b[0;34m\u001b[0m\u001b[0m\n\u001b[1;32m   3914\u001b[0m         \u001b[0;32mif\u001b[0m \u001b[0mself\u001b[0m\u001b[0;34m.\u001b[0m\u001b[0m_first_time\u001b[0m \u001b[0;32mand\u001b[0m \u001b[0;32mnot\u001b[0m \u001b[0mself\u001b[0m\u001b[0;34m.\u001b[0m\u001b[0moff_screen\u001b[0m\u001b[0;34m:\u001b[0m\u001b[0;34m\u001b[0m\u001b[0;34m\u001b[0m\u001b[0m\n\u001b[0;32m-> 3915\u001b[0;31m             raise RuntimeError(\"Nothing to screenshot - call .show first or \"\n\u001b[0m\u001b[1;32m   3916\u001b[0m                                \"use the off_screen argument\")\n\u001b[1;32m   3917\u001b[0m \u001b[0;34m\u001b[0m\u001b[0m\n",
            "\u001b[0;31mRuntimeError\u001b[0m: Nothing to screenshot - call .show first or use the off_screen argument"
          ]
        }
      ]
    },
    {
      "cell_type": "markdown",
      "source": [
        "# Fracture\n",
        "\n",
        "\n",
        "Let $\\Omega \\subset (0, L)^D$, with $D=1, 2, 3$, $L$ finite, being the (or one) characteristic length of the specimen.\n",
        "For any \n",
        "- displacement field $u\\in V_t : H^1(\\Omega, R^n) + bcs(t)$ with $n=1, 2$ or $3$, and\n",
        "- damage field $\\alpha \\in H^1(\\Omega, R)$,\n",
        "\n",
        "consider the energy $E(u, \\alpha)$ defined as\n",
        "$$\n",
        "E_\\ell(u, \\alpha)=\\frac{1}{2}\\int_\\Omega a(\\alpha) W(u) dx + \\underbrace{\\frac{G_c}{c_w} \\int \\left(\\frac{1}{\\ell}w(\\alpha) + \\ell |\\nabla \\alpha|^2 \\right)dx}_{\\text{Surface energy}}- \\int_\\Omega f.u dx$$\n",
        "\n",
        "In practice, $\\ell \\ll L$.\n",
        "\n",
        "Above, $W$ is the elastic energy density, reading (in linearised elasticity as) \n",
        "$$ W(u) = Ae(u):e(u)\n",
        "$$\n",
        "where $A$ is the 4-th order tensor of elasticity, in the isotropic and homogeneous case, it corresponds to a linear combination with two coefficients, say, $A_0$ the stiffness (dimensional), and $\\nu$ the Poisson ratio (non-dimensional). \n",
        "\n",
        "\n",
        "Further, $w(\\alpha)$ corresponds to the dissipated energy to damage, homogeneously, the specimen, the gradient term accounts for spatial variations.\n",
        "\n",
        "**Keypoint:** these two terms are weighted by $\\ell$, a parameter that is homogeneous to a length and is understood as a *material* quantity (as opposed to *numerical*).\n",
        "\n",
        "Define $D(\\alpha_0):=\\left\\{ \\alpha \\in H^1(\\Omega), \\alpha \\geq \\alpha_0 \\right\\}$, for some $\\alpha_0(x)\\geq 0$ pointwise. \n",
        "\n",
        "We solve two types of problems (by increasing difficulty):\n",
        "- **The static problem**: Given a load (boundary conditions) and an initial state of damage $\\alpha_0$, what is the equilibrium displacement and repartition of damage?\n",
        "In other terms:\n",
        "$$\\operatorname{ min loc} \\left\\{ E_\\ell(u, \\alpha):  u \\in V_t, \\alpha \\in D(\\alpha_0) \\right\\}$$. \n",
        "\n",
        "- **The evolution problem**: Given a load **history** (boundary conditions as a function of $t$) and an initial state of damage $\\alpha_0$, what is the *evolution* of equilibrium displacement and repartition of damage, i.e. \n",
        "the map $t\\mapsto (u_t, \\alpha_t)$, such that \n",
        "  - (Irrevers.) $\\alpha_t \\nearrow t$,\n",
        "  - (Stability) $(u_t, \\alpha_t) = \\operatorname{arg loc min} \\left\\{ E_\\ell (v, \\beta), (v, \\beta) \\in V_t \\times D(\\alpha_t) \\right\\}$ \n",
        "\n"
      ],
      "metadata": {
        "id": "hKsLlGIaXrSe"
      }
    },
    {
      "cell_type": "code",
      "source": [
        "# Functional setting\n",
        "#'u' represents the displacement in this problem. In order to solve it, the \n",
        "#continuos field  'u' is replaced by a discrite form u = som[vec(function_forme)\n",
        "#*vec(nodal_displacement)]\n",
        "#In order to define the vec(function_forme), the ufl library is used. \n",
        "\n",
        "#A VectorElement represents a combination of basic elements such that each\n",
        "#component of a vector is represented by the basic element. The size is usually\n",
        "#omitted, the default size equals the geometry dimension.\n",
        "\n",
        "#ulf.VectorElement(<Type of the element>, <Geometry of the element>, \n",
        "#degree=<Degree of element: 1 - Linear, 2 - Quadratic, etc.>, dim= <Target \n",
        "#dimension of the element: 1 - Line, 2 - Area, 3 - Volume>)\n",
        "\n",
        "#Lagrange is a familly type of elements -> polynomial functions of forme;\n",
        "#The Lagrange elements are going to be defined in the mesh as such we take the\n",
        "#geometry of elements present in the mesh.\n",
        "\n",
        "element_u = ufl.VectorElement(\"Lagrange\", mesh.ufl_cell(),\n",
        "                              degree=1, dim=2)\n",
        "element_alpha = ufl.FiniteElement(\"Lagrange\", mesh.ufl_cell(),\n",
        "                              degree=1)\n",
        "\n",
        "#After defining the Finite Element in ufl, a association with dolfinx is made.\n",
        "#To inputs are necessary, the mesh and the element type created. In some sense, \n",
        "#we obtain the \"discretised model w/ elements definied\".\n",
        "V_u = dolfinx.fem.FunctionSpace(mesh, element_u)\n",
        "V_alpha = dolfinx.fem.FunctionSpace(mesh, element_alpha)\n",
        "\n",
        "#In this model, we also defines functions necessaries to solve the problem. \n",
        "#This functions are definied in the entire space/model.\n",
        "u = dolfinx.fem.Function(V_u, name=\"Displacement\") #The discrete nodal valeus of\n",
        "                                                    #the displacement\n",
        "alpha = dolfinx.fem.Function(V_alpha, name=\"Damage\")\n",
        "# Bounds -> the values of alpha must be max([0,1],[alpha(t-1),1]) \n",
        "alpha_ub = dolfinx.fem.Function(V_alpha, name=\"UpperBoundDamage\")\n",
        "alpha_lb = dolfinx.fem.Function(V_alpha, name=\"LowerBoundDamage\")\n",
        "alpha_lb.interpolate(lambda x: np.zeros_like(x[0]))\n",
        "alpha_ub.interpolate(lambda x: np.ones_like(x[0]))\n",
        "\n",
        "#In order to defined a function in a specific subspace of the model, it must be \n",
        "#specified in the model 'V_u.sub(i)', where i = 0 -> x, 1 -> y, 2-> z.\n",
        "#Don't forget to collapse, to choose only the DOF associated with the subspace.\n",
        "\n",
        "#I don't think  this part works to definy the body force applied in a geometry.\n",
        "#It could be better to define it in the energy definition as constant. If not a \n",
        "#constant, we might need to define as a space function.\n",
        "# g = dolfinx.fem.Function(V_u, name=\"Body_pressure\")\n",
        "# with g.vector.localForm() as loc:\n",
        "#   loc.set(-78500.0)\n"
      ],
      "metadata": {
        "id": "iFbnRoIzXqiG"
      },
      "execution_count": 20,
      "outputs": []
    },
    {
      "cell_type": "code",
      "source": [
        "# Integral measures -> in order to define the energy lately, it's necessary to \n",
        "#define the integral measures, as such one is a integral.\n",
        "dx = ufl.Measure(\"dx\", domain=mesh) #-> volume measure\n",
        "#We include here the subdomain data generated at the gmsh file.\n",
        "ds = ufl.Measure(\"ds\", subdomain_data = facet_tags, domain=mesh) #-> surface measure\n",
        "#ds(<number of the facet tags>)\n",
        "#dS = ufl.Measure(\"dS\", domain = mesh) - inner boundaries of the mesh -> not usefull\n"
      ],
      "metadata": {
        "id": "zdFIc_S5B_M4"
      },
      "execution_count": 21,
      "outputs": []
    },
    {
      "cell_type": "code",
      "source": [
        "import models\n",
        "from models import DamageElasticityModel as Brittle\n",
        "\n",
        "model = Brittle(parameters.get('model'))\n",
        "state = {'u': u, 'alpha': alpha}\n",
        "#The total energy density is calculated this time using a already written \n",
        "#function of the \"model\".\n",
        "total_energy = model.total_energy_density(state) * dx - ufl.dot(force,u)*ds(107) - ufl.dot(force,u)*ds(108)"
      ],
      "metadata": {
        "id": "ffbYB1PObpc-"
      },
      "execution_count": 52,
      "outputs": []
    },
    {
      "cell_type": "code",
      "source": [
        "# Boundary sets\n",
        "#Function that returns 'TRUE' if the point of the mesh is in the region you want\n",
        "#to apply the BC.\n",
        "def BC_points(x):\n",
        "  #x[0] is the vector of X-coordinate of all points ; x[1] is the vector of Y-coordinate\n",
        "  return np.logical_and(\n",
        "      np.logical_or(np.isclose(x[0],-L/2),np.isclose(x[0],L/2)),\n",
        "      np.isclose(x[1],0))\n",
        "\n",
        "BC_entities = dolfinx.mesh.locate_entities_boundary(mesh, 0, BC_points)\n",
        "BC_dofs = dolfinx.fem.locate_dofs_topological(V_u, 0, BC_entities)\n",
        "u_.interpolate(lambda x: (np.zeros_like(x[0]), np.zeros_like(x[1])))\n",
        "bcs_u = [dirichletbc(u_, BC_dofs)]\n",
        "\n",
        "# dofs_alpha_left = locate_dofs_geometrical(V_alpha, lambda x: np.isclose(x[0], -L/2))\n",
        "# dofs_alpha_right = locate_dofs_geometrical(V_alpha, lambda x: np.isclose(x[0], L/2))\n",
        "\n",
        "# bcs_alpha = [\n",
        "#              dirichletbc(np.array(0., dtype = PETSc.ScalarType),\n",
        "#                          np.concatenate([dofs_alpha_left, dofs_alpha_right]),\n",
        "#                          V_alpha)\n",
        "# ]\n",
        "bcs_alpha=[]\n",
        "bcs = {\"bcs_u\": bcs_u, \"bcs_alpha\": bcs_alpha}\n",
        "\n",
        "# Update the bounds\n",
        "set_bc(alpha_ub.vector, bcs_alpha)\n",
        "set_bc(alpha_lb.vector, bcs_alpha)"
      ],
      "metadata": {
        "id": "Rd3qcrhocbvw"
      },
      "execution_count": 40,
      "outputs": []
    },
    {
      "cell_type": "markdown",
      "source": [
        "The \"AlternativeMinimisation\" contains the derivative of the energy and the solvers for the two problems (elasticity and damage - as seen at TP1 and TP3). It uses the solver iterativaly in order to the minisation alternating the two problems : El (u, .) and El (., alpha).\n"
      ],
      "metadata": {
        "id": "kuOb2bppc4X1"
      }
    },
    {
      "cell_type": "code",
      "source": [
        "import algorithms\n",
        "from algorithms import am\n",
        "solve_it = am.AlternateMinimisation(total_energy, \n",
        "                         state, \n",
        "                         bcs, \n",
        "                         parameters.get(\"solvers\"), \n",
        "                         bounds=(alpha_lb,alpha_ub))\n"
      ],
      "metadata": {
        "id": "8zZFxVdGbxt3"
      },
      "execution_count": 53,
      "outputs": []
    },
    {
      "cell_type": "code",
      "source": [
        "solve_it.elasticity\n",
        "#Loop for evolution\n",
        "Loads = np.linspace(parameters.get(\"loading\").get(\"min\"),\n",
        "                    parameters.get(\"loading\").get(\"max\"),\n",
        "                    parameters.get(\"loading\").get(\"steps\"))\n",
        "\n",
        "data = {\n",
        "    'elastic': [],\n",
        "    'surface': [],\n",
        "    'total': [],\n",
        "    'load': []\n",
        "}\n",
        "for (i_t,t) in enumerate(Loads):\n",
        "  #update bondary conditions\n",
        "  #verify how to update Newman BC\n",
        "  #u_.interpolate(lambda x: (t * np.ones_like(x[0]), np.zeros_like(x[1])))\n",
        "  force.interpolate(lambda x: (np.zeros_like(x[0]), loading_force*t*np.ones_like(x[1])))\n",
        "  #update lower bound for damage\n",
        "  alpha.vector.copy(alpha_lb.vector)\n",
        "  #solve for current load step\n",
        "  solve_it.solve()\n",
        "  #postprocessing\n",
        "  #global\n",
        "  surface_energy = assemble_scalar(dolfinx.fem.form(model.damage_dissipation_density(state)*dx))\n",
        "  elastic_energy = assemble_scalar(dolfinx.fem.form(model.elastic_energy_density(state)*dx))\n",
        "  \n",
        "  data.get('elastic').append(elastic_energy)\n",
        "  data.get('surface').append(surface_energy)\n",
        "  data.get('total').append(surface_energy+elastic_energy)\n",
        "  data.get('load').append(t)\n",
        "  \n",
        "  print(f'Solved timestep {i_t}, load {t}')\n",
        "  print(f'Elastic energy {elastic_energy:.3g}, Surface energy {surface_energy:.3g}')\n",
        "\n",
        "  #saving"
      ],
      "metadata": {
        "colab": {
          "base_uri": "https://localhost:8080/"
        },
        "id": "X-d4lgaZdFiH",
        "outputId": "7a335d00-ed04-4fdd-9c12-15f6ade8be0d"
      },
      "execution_count": 54,
      "outputs": [
        {
          "output_type": "stream",
          "name": "stdout",
          "text": [
            "  0 SNES Function norm 6.061970062045e+05 \n",
            "  1 SNES Function norm 5.403633758254e+05 \n",
            "  2 SNES Function norm 4.387158297719e+05 \n",
            "  3 SNES Function norm 4.387158297719e+05 \n",
            "  0 SNES Function norm 0.000000000000e+00 \n",
            "Solved timestep 0, load 0.0\n",
            "Elastic energy 6.48e-17, Surface energy 0\n",
            "  0 SNES Function norm 5.235528319005e+05 \n",
            "  1 SNES Function norm 5.235528319005e+05 \n",
            "  0 SNES Function norm 0.000000000000e+00 \n",
            "Solved timestep 1, load 0.14444444444444446\n",
            "Elastic energy 8.05e-17, Surface energy 0\n",
            "  0 SNES Function norm 7.121650158060e+05 \n",
            "  1 SNES Function norm 7.121650158060e+05 \n",
            "  0 SNES Function norm 0.000000000000e+00 \n",
            "Solved timestep 2, load 0.2888888888888889\n",
            "Elastic energy 1.26e-16, Surface energy 0\n",
            "  0 SNES Function norm 9.293107278032e+05 \n",
            "  1 SNES Function norm 9.293107278032e+05 \n",
            "  0 SNES Function norm 0.000000000000e+00 \n",
            "Solved timestep 3, load 0.43333333333333335\n",
            "Elastic energy 1.89e-16, Surface energy 0\n",
            "  0 SNES Function norm 1.199766787094e+06 \n",
            "  1 SNES Function norm 1.199766787094e+06 \n",
            "  0 SNES Function norm 0.000000000000e+00 \n",
            "Solved timestep 4, load 0.5777777777777778\n",
            "Elastic energy 3.01e-16, Surface energy 0\n",
            "  0 SNES Function norm 1.544413373988e+06 \n",
            "  1 SNES Function norm 1.544413373988e+06 \n",
            "  0 SNES Function norm 0.000000000000e+00 \n",
            "Solved timestep 5, load 0.7222222222222223\n",
            "Elastic energy 4.99e-16, Surface energy 0\n",
            "  0 SNES Function norm 1.986360473574e+06 \n",
            "  1 SNES Function norm 1.986360473574e+06 \n",
            "  0 SNES Function norm 0.000000000000e+00 \n",
            "Solved timestep 6, load 0.8666666666666667\n",
            "Elastic energy 7.83e-16, Surface energy 0\n",
            "  0 SNES Function norm 2.554127716035e+06 \n",
            "  1 SNES Function norm 2.554127716035e+06 \n",
            "  0 SNES Function norm 0.000000000000e+00 \n",
            "Solved timestep 7, load 1.0111111111111113\n",
            "Elastic energy 1.29e-15, Surface energy 0\n",
            "  0 SNES Function norm 3.283941698579e+06 \n",
            "  1 SNES Function norm 3.283941698579e+06 \n",
            "  0 SNES Function norm 0.000000000000e+00 \n",
            "Solved timestep 8, load 1.1555555555555557\n",
            "Elastic energy 2.1e-15, Surface energy 0\n",
            "  0 SNES Function norm 4.222209452004e+06 \n",
            "  1 SNES Function norm 4.222209452004e+06 \n",
            "  0 SNES Function norm 0.000000000000e+00 \n",
            "Solved timestep 9, load 1.3\n",
            "Elastic energy 3.51e-15, Surface energy 0\n"
          ]
        }
      ]
    },
    {
      "cell_type": "code",
      "source": [
        "plt.plot(data.get('load'), data.get('surface'), label='surface')\n",
        "plt.plot(data.get('load'), data.get('elastic'), label='elastic')\n",
        "#plt.plot(data.get('load'), [1./2. * t**2*L for t in data.get('load')], label='anal elast', ls=':', c='k')\n",
        "\n",
        "plt.title('Traction bar energetics')\n",
        "plt.legend()\n",
        "#plt.yticks([0, 1/20], [0, '$1/2.\\sigma_c^2/E_0$'])\n",
        "#plt.xticks([0, 1], [0, 1])"
      ],
      "metadata": {
        "colab": {
          "base_uri": "https://localhost:8080/",
          "height": 300
        },
        "id": "tu8ojohvrtT_",
        "outputId": "154145c7-4fd5-40c1-9550-df574d3e1395"
      },
      "execution_count": 55,
      "outputs": [
        {
          "output_type": "execute_result",
          "data": {
            "text/plain": [
              "<matplotlib.legend.Legend at 0x7f82f8aa0a90>"
            ]
          },
          "metadata": {},
          "execution_count": 55
        },
        {
          "output_type": "display_data",
          "data": {
            "image/png": "[encoded data removed]",
            "text/plain": [
              "<Figure size 432x288 with 1 Axes>"
            ]
          },
          "metadata": {
            "needs_background": "light"
          }
        }
      ]
    },
    {
      "cell_type": "code",
      "source": [
        "plotter = pyvista.Plotter(\n",
        "    title=\"Test VI\",\n",
        "    window_size=[800, 600],\n",
        "    shape=(1, 1),\n",
        ")\n",
        "_props = {\"show_edges\":True, \"show_scalar_bar\": True, \"clim\":[0, 1]}\n",
        "_plt = plot_vector(alpha, plotter, subplot=(0, 0))\n",
        "\n",
        "# _plt = plot_vector(u, plotter, subplot=(0, 1))\n",
        "\n",
        "_plt.screenshot(f\"test_vi.png\")\n"
      ],
      "metadata": {
        "id": "HrrpUFPWhd_A"
      },
      "execution_count": null,
      "outputs": []
    },
    {
      "cell_type": "markdown",
      "source": [
        "##QUESTIONS TO ASK\n",
        "1. How to apply a body force in only one direction (elast. and damage problem) ?\n",
        "2. How to apply contact forces in the elast. problem ? (I tried but it doesn't seems to work)\n",
        "3. How the apply and  update contact forces (Neumann BC) at the damage problem ?\n",
        "4. Alpha BC ?\n",
        "4. How to plot the damage model ?\n"
      ],
      "metadata": {
        "id": "wfhCErlzfM7o"
      }
    },
    {
      "cell_type": "code",
      "source": [
        ""
      ],
      "metadata": {
        "id": "NWOaab9BdJu9"
      },
      "execution_count": null,
      "outputs": []
    }
  ]
}