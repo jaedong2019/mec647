{
  "nbformat": 4,
  "nbformat_minor": 0,
  "metadata": {
    "colab": {
      "name": "mesh-rhombusHole.ipynb",
      "provenance": [],
      "authorship_tag": "ABX9TyOUJmV2k5O5VUL9oKqo7f/z",
      "include_colab_link": true
    },
    "kernelspec": {
      "name": "python3",
      "display_name": "Python 3"
    },
    "language_info": {
      "name": "python"
    }
  },
  "cells": [
    {
      "cell_type": "markdown",
      "metadata": {
        "id": "view-in-github",
        "colab_type": "text"
      },
      "source": [
        "<a href=\"https://colab.research.google.com/github/kumiori/mec647/blob/francoisfernet---mesh/TP_rhombusHole.ipynb\" target=\"_parent\"><img src=\"https://colab.research.google.com/assets/colab-badge.svg\" alt=\"Open In Colab\"/></a>"
      ]
    },
    {
      "cell_type": "code",
      "execution_count": null,
      "metadata": {
        "id": "NOC84K9DPaHr"
      },
      "outputs": [],
      "source": [
        "%%capture\n",
        "import sys\n",
        "\n",
        "try:\n",
        "    import google.colab  # noqa: F401\n",
        "except ImportError:\n",
        "    import ufl  # noqa: F401\n",
        "    import dolfinx  # noqa: F401\n",
        "else:\n",
        "    try:\n",
        "        import ufl\n",
        "        import dolfinx\n",
        "    except ImportError:\n",
        "        !wget \"https://fem-on-colab.github.io/releases/fenicsx-install.sh\" -O \"/tmp/fenicsx-install.sh\" && bash \"/tmp/fenicsx-install.sh\";\n",
        "        import ufl  # noqa: F401\n",
        "        import dolfinx  # noqa: F401"
      ]
    },
    {
      "cell_type": "code",
      "source": [
        "%%capture\n",
        "!sudo apt install libgl1-mesa-glx xvfb;\n",
        "!{sys.executable} -m pip install pythreejs;\n",
        "!{sys.executable} -m pip install ipygany;\n",
        "!{sys.executable} -m pip install --upgrade pyyaml\n",
        "try:\n",
        "    import google.colab\n",
        "except ImportError:\n",
        "    pass\n",
        "else:\n",
        "    pass\n",
        "    # google.colab.output.enable_custom_widget_manager();\n",
        "try:\n",
        "    import pyvista\n",
        "except ImportError:\n",
        "    !pip3 install --upgrade pyvista itkwidgets;\n",
        "    import pyvista  # noqa: F401\n",
        "    from pyvista.utilities import xvfb\n",
        "\n",
        "try:\n",
        "    import gmsh\n",
        "except ImportError:\n",
        "    !{sys.executable} -m pip install gmsh\n",
        "    import gmsh"
      ],
      "metadata": {
        "id": "2wFNaiiteCfs"
      },
      "execution_count": null,
      "outputs": []
    },
    {
      "cell_type": "code",
      "source": [
        "# library include\n",
        "\n",
        "\n",
        "import numpy as np\n",
        "import yaml\n",
        "import json\n",
        "import sys\n",
        "import os\n",
        "from pathlib import Path\n",
        "\n",
        "from mpi4py import MPI\n",
        "\n",
        "import petsc4py\n",
        "from petsc4py import PETSc\n",
        "\n",
        "import dolfinx\n",
        "import dolfinx.plot\n",
        "from dolfinx import log\n",
        "import ufl\n",
        "\n",
        "\n",
        "from dolfinx.io import XDMFFile\n",
        "\n",
        "import logging\n",
        "\n",
        "logging.basicConfig(level=logging.INFO)\n",
        "\n",
        "import dolfinx\n",
        "import dolfinx.plot\n",
        "import dolfinx.io\n",
        "from dolfinx.fem import (\n",
        "    Constant,\n",
        "    Function,\n",
        "    FunctionSpace,\n",
        "    assemble_scalar,\n",
        "    dirichletbc,\n",
        "    form,\n",
        "    locate_dofs_geometrical,\n",
        "    set_bc,\n",
        ")\n",
        "import matplotlib.pyplot as plt"
      ],
      "metadata": {
        "id": "6MRV8jSAeGAJ"
      },
      "execution_count": null,
      "outputs": []
    },
    {
      "cell_type": "code",
      "source": [
        "!rm -rf mec647\n"
      ],
      "metadata": {
        "id": "J4pP8zNZeInu"
      },
      "execution_count": null,
      "outputs": []
    },
    {
      "cell_type": "code",
      "source": [
        "try:\n",
        "  !git clone https://github.com/kumiori/mec647.git\n",
        "except Exception:\n",
        "  print('Something went wrong')\n",
        "\n",
        "  !rm -rf mec647\n",
        "  !git clone https://github.com/kumiori/mec647.git\n"
      ],
      "metadata": {
        "colab": {
          "base_uri": "https://localhost:8080/"
        },
        "id": "5XwAFkA7eKeC",
        "outputId": "a6699c83-df8d-44ff-b669-f5014888ec52"
      },
      "execution_count": null,
      "outputs": [
        {
          "output_type": "stream",
          "name": "stdout",
          "text": [
            "Cloning into 'mec647'...\n",
            "remote: Enumerating objects: 539, done.\u001b[K\n",
            "remote: Counting objects: 100% (539/539), done.\u001b[K\n",
            "remote: Compressing objects: 100% (439/439), done.\u001b[K\n",
            "remote: Total 539 (delta 231), reused 242 (delta 81), pack-reused 0\u001b[K\n",
            "Receiving objects: 100% (539/539), 7.22 MiB | 13.04 MiB/s, done.\n",
            "Resolving deltas: 100% (231/231), done.\n"
          ]
        }
      ]
    },
    {
      "cell_type": "code",
      "source": [
        "sys.path.append('mec647/')\n",
        "\n",
        "# meshes\n",
        "#import meshes\n",
        "#from meshes import primitives\n",
        "\n",
        "# visualisation\n",
        "from utils import viz\n",
        "import matplotlib.pyplot as plt\n",
        "from utils.viz import plot_mesh, plot_vector, plot_scalar\n"
      ],
      "metadata": {
        "id": "zPSaMrGEeNyb"
      },
      "execution_count": null,
      "outputs": []
    },
    {
      "cell_type": "code",
      "source": [
        "# Parameters\n",
        "\n",
        "parameters = {\n",
        "    'loading': {\n",
        "        'min': 0,\n",
        "        'max': 1\n",
        "    },\n",
        "    'geometry': {\n",
        "        'geom_type': 'bar',\n",
        "        'Lx': 0.4,\n",
        "        'Ly': 0.6\n",
        "    },\n",
        "    'model': {\n",
        "        'mu': 1.,\n",
        "        'lmbda': 0.\n",
        "    },\n",
        "    'solvers': {\n",
        "        'snes': {\n",
        "            'snes_type': 'newtontr',\n",
        "            'snes_stol': 1e-8,\n",
        "            'snes_atol': 1e-8,\n",
        "            'snes_rtol': 1e-8,\n",
        "            'snes_max_it': 100,\n",
        "            'snes_monitor': \"\",\n",
        "            'ksp_type': 'preonly',\n",
        "            'pc_type': 'lu',\n",
        "            'pc_factor_mat_solver_type': 'mumps'\n",
        "        }\n",
        "    }\n",
        "}\n",
        "\n",
        "# parameters.get('loading')\n",
        "\n"
      ],
      "metadata": {
        "id": "mu7XteEieP-C"
      },
      "execution_count": null,
      "outputs": []
    },
    {
      "cell_type": "code",
      "source": [
        "# Mesh\n",
        "Lx = parameters[\"geometry\"][\"Lx\"]\n",
        "Ly = parameters[\"geometry\"][\"Ly\"]\n",
        "geom_type = parameters[\"geometry\"][\"geom_type\"]\n",
        "\n",
        "\n",
        "\n",
        "gmsh_model, tdim = primitives.mesh_bar_gmshapi(geom_type,\n",
        "                                    Lx, \n",
        "                                    Ly, \n",
        "                                    0.03, \n",
        "                                    tdim=2)\n",
        "\n",
        "mesh, mts = meshes.gmsh_model_to_mesh(gmsh_model,\n",
        "                               cell_data=False,\n",
        "                               facet_data=True,\n",
        "                               gdim=2)\n",
        "\n",
        "# TODO: Plot mesh\n",
        "\n",
        "\n",
        "plt.figure()\n",
        "ax = plot_mesh(mesh)\n",
        "fig = ax.get_figure()\n",
        "fig.savefig(f\"mesh.png\")\n"
      ],
      "metadata": {
        "colab": {
          "base_uri": "https://localhost:8080/",
          "height": 265
        },
        "id": "jVEN6DsOeSFD",
        "outputId": "3406ad0d-11b4-4865-9f98-7ba6cc939c69"
      },
      "execution_count": null,
      "outputs": [
        {
          "output_type": "display_data",
          "data": {
            "image/png": "[encoded data removed]",
            "text/plain": [
              "<Figure size 432x288 with 1 Axes>"
            ]
          },
          "metadata": {
            "needs_background": "light"
          }
        }
      ]
    },
    {
      "cell_type": "code",
      "source": [
        "# Functional setting\n",
        "\n",
        "element_u = ufl.VectorElement(\"Lagrange\", mesh.ufl_cell(),\n",
        "                              degree=1, dim=2)\n",
        "V_u = dolfinx.fem.FunctionSpace(mesh, element_u) \n",
        "\n",
        "u = dolfinx.fem.Function(V_u, name=\"Displacement\")\n",
        "g = dolfinx.fem.Function(V_u, name=\"Body pressure\")\n",
        "\n",
        "u_ = dolfinx.fem.Function(V_u, name=\"Boundary Displacement\")\n",
        "# ux_ = dolfinx.fem.Function(V_u.sub(0).collapse(), name=\"Boundary Displacement\")\n",
        "\n",
        "\n"
      ],
      "metadata": {
        "id": "CZ0a-McseVo3"
      },
      "execution_count": null,
      "outputs": []
    },
    {
      "cell_type": "code",
      "source": [
        "# Integral measures\n",
        "dx = ufl.Measure(\"dx\", domain=mesh)\n",
        "ds = ufl.Measure(\"ds\", domain=mesh)\n"
      ],
      "metadata": {
        "id": "uSj0fw5SeYRv"
      },
      "execution_count": null,
      "outputs": []
    },
    {
      "cell_type": "code",
      "source": [
        "\n",
        "# Data\n",
        "\n",
        "zero = Function(V_u)\n",
        "# works in parallel!\n",
        "with zero.vector.localForm() as loc:\n",
        "    loc.set(0.0)\n",
        "\n",
        "one = Function(V_u)\n",
        "# works in parallel!\n",
        "with one.vector.localForm() as loc:\n",
        "    loc.set(1.0)\n",
        "\n",
        "g = Function(V_u)\n",
        "# works in parallel!\n",
        "with zero.vector.localForm() as loc:\n",
        "    loc.set(0.0)\n"
      ],
      "metadata": {
        "id": "fsD0cvs0ebTc"
      },
      "execution_count": null,
      "outputs": []
    },
    {
      "cell_type": "code",
      "source": [
        "# energy\n",
        "mu = parameters[\"model\"][\"mu\"]\n",
        "lmbda = parameters[\"model\"][\"lmbda\"]\n",
        "\n",
        "def _e(u):\n",
        "  return ufl.sym(ufl.grad(u))\n",
        "\n",
        "en_density = 1/2 * (2*mu* ufl.inner(_e(u),_e(u))) + lmbda*ufl.tr(_e(u))**2\n",
        "energy = en_density * dx - ufl.dot(g, u) * dx"
      ],
      "metadata": {
        "id": "iT-KeQsZeciH"
      },
      "execution_count": null,
      "outputs": []
    },
    {
      "cell_type": "code",
      "source": [
        "# boundary conditions\n",
        "\n",
        "def left(x):\n",
        "  return np.isclose(x[0], 0.)\n",
        "\n",
        "def right(x):\n",
        "  return np.isclose(x[0], Lx)\n",
        "\n",
        "left_facets = dolfinx.mesh.locate_entities_boundary(mesh, 1, left)\n",
        "left_dofs = dolfinx.fem.locate_dofs_topological(V_u, mesh.topology.dim - 1,\n",
        "                                                left_facets)\n",
        "\n",
        "\n",
        "# right side\n",
        "\n",
        "right_facets = dolfinx.mesh.locate_entities_boundary(mesh, 1, right)\n",
        "right_dofs = dolfinx.fem.locate_dofs_topological(V_u, mesh.topology.dim - 1,\n",
        "                                                right_facets)\n",
        "\n",
        "\n",
        "\n",
        "\n"
      ],
      "metadata": {
        "id": "y0S7JXR5ed1k"
      },
      "execution_count": null,
      "outputs": []
    },
    {
      "cell_type": "code",
      "source": [
        "\n",
        "bcs = [dirichletbc(zero, left_dofs), dirichletbc(one, right_dofs)]\n",
        "bcs"
      ],
      "metadata": {
        "id": "XRK2mi38efa2"
      },
      "execution_count": null,
      "outputs": []
    },
    {
      "cell_type": "code",
      "source": [
        "left_dofs"
      ],
      "metadata": {
        "id": "aFKxuciAeh1a"
      },
      "execution_count": null,
      "outputs": []
    },
    {
      "cell_type": "code",
      "source": [
        "\n",
        "# solving\n",
        "from solvers import SNESSolver\n",
        "D_energy_u = ufl.derivative(energy, u, ufl.TestFunction(V_u))\n",
        "\n",
        "problem = SNESSolver(\n",
        "    D_energy_u,\n",
        "    u,\n",
        "    bcs,\n",
        "    bounds=None,\n",
        "    petsc_options=parameters.get(\"solvers\").get(\"snes\"),\n",
        "    prefix=\"elast\",\n",
        ")\n",
        "\n",
        "\n",
        "problem.solve()\n"
      ],
      "metadata": {
        "id": "2q5hAdcOejAE"
      },
      "execution_count": null,
      "outputs": []
    },
    {
      "cell_type": "code",
      "source": [
        "\n",
        "def plot_vector(u, plotter, subplot=None):\n",
        "    if subplot:\n",
        "        plotter.subplot(subplot[0], subplot[1])\n",
        "    V = u.function_space\n",
        "    mesh = V.mesh\n",
        "    topology, cell_types, _ = dolfinx.plot.create_vtk_mesh(mesh, mesh.topology.dim)\n",
        "    num_dofs_local = u.function_space.dofmap.index_map.size_local\n",
        "    geometry = u.function_space.tabulate_dof_coordinates()[:num_dofs_local]\n",
        "    values = np.zeros((V.dofmap.index_map.size_local, 3), dtype=np.float64)\n",
        "    values[:, : mesh.geometry.dim] = u.vector.array.real.reshape(\n",
        "        V.dofmap.index_map.size_local, V.dofmap.index_map_bs\n",
        "    )\n",
        "    grid = pyvista.UnstructuredGrid(topology, cell_types, geometry)\n",
        "    grid[\"vectors\"] = values\n",
        "    grid.set_active_vectors(\"vectors\")\n",
        "    # geom = pyvista.Arrow()\n",
        "    # glyphs = grid.glyph(orient=\"vectors\", factor=1, geom=geom)\n",
        "    glyphs = grid.glyph(orient=\"vectors\", factor=1.0)\n",
        "    plotter.add_mesh(glyphs)\n",
        "    plotter.add_mesh(\n",
        "        grid, show_edges=True, color=\"black\", style=\"wireframe\", opacity=0.3\n",
        "    )\n",
        "    plotter.view_xy()\n",
        "    return plotter\n",
        "\n",
        "\n",
        "def plot_scalar(alpha, plotter, subplot=None, lineproperties={}):\n",
        "    if subplot:\n",
        "        plotter.subplot(subplot[0], subplot[1])\n",
        "    V = alpha.function_space\n",
        "    mesh = V.mesh\n",
        "    topology, cell_types, _ = dolfinx.plot.create_vtk_mesh(mesh, mesh.topology.dim)\n",
        "    grid = pyvista.UnstructuredGrid(topology, cell_types, mesh.geometry.x)\n",
        "\n",
        "    plotter.subplot(0, 0)\n",
        "    grid.point_data[\"alpha\"] = alpha.compute_point_values().real\n",
        "    grid.set_active_scalars(\"alpha\")\n",
        "    plotter.add_mesh(grid, **lineproperties)\n",
        "    plotter.view_xy()\n",
        "    return plotter\n",
        "\n"
      ],
      "metadata": {
        "id": "OYQZU9v8eku0"
      },
      "execution_count": null,
      "outputs": []
    },
    {
      "cell_type": "code",
      "source": [
        "\n",
        "\n",
        "# plt.figure()\n",
        "# ax = plot_mesh(mesh)\n",
        "# fig = ax.get_figure()\n",
        "# fig.savefig(f\"mesh.png\")\n",
        "\n",
        "# postprocessing\n",
        "\n",
        "xvfb.start_xvfb(wait=0.05)\n",
        "pyvista.OFF_SCREEN = True\n",
        "\n",
        "plotter = pyvista.Plotter(\n",
        "        title=\"Displacement\",\n",
        "        window_size=[1600, 600],\n",
        "        shape=(1, 2),\n",
        "    )\n",
        "\n",
        "# _plt = plot_scalar(u_.sub(0), plotter, subplot=(0, 0))\n",
        "_plt = plot_vector(u, plotter, subplot=(0, 1))\n",
        "_plt.screenshot(f\"displacement_MPI.png\")"
      ],
      "metadata": {
        "id": "oO8HLOD9emXN"
      },
      "execution_count": null,
      "outputs": []
    }
  ]
}