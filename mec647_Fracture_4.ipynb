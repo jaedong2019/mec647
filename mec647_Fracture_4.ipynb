{
  "cells": [
    {
      "cell_type": "markdown",
      "metadata": {
        "id": "view-in-github",
        "colab_type": "text"
      },
      "source": [
        "<a href=\"https://colab.research.google.com/github/kumiori/mec647/blob/francoisfernet---mesh/mec647_Fracture_4.ipynb\" target=\"_parent\"><img src=\"https://colab.research.google.com/assets/colab-badge.svg\" alt=\"Open In Colab\"/></a>"
      ]
    },
    {
      "cell_type": "code",
      "execution_count": 34,
      "metadata": {
        "id": "rA4M7CiLCsX_"
      },
      "outputs": [],
      "source": [
        "%%capture\n",
        "import sys\n",
        "\n",
        "try:\n",
        "    import google.colab  # noqa: F401\n",
        "except ImportError:\n",
        "    import ufl  # noqa: F401\n",
        "    import dolfinx  # noqa: F401\n",
        "else:\n",
        "    try:\n",
        "        import ufl\n",
        "        import dolfinx\n",
        "    except ImportError:\n",
        "        !wget \"https://fem-on-colab.github.io/releases/fenicsx-install.sh\" -O \"/tmp/fenicsx-install.sh\" && bash \"/tmp/fenicsx-install.sh\";\n",
        "        import ufl  # noqa: F401\n",
        "        import dolfinx  # noqa: F401\n",
        "\n",
        "try:\n",
        "    import pyvista\n",
        "except ImportError:\n",
        "    !{sys.executable} -m pip install --upgrade pyvista itkwidgets;\n",
        "    import pyvista  # noqa: F401\n",
        "    from pyvista.utilities import xvfb\n",
        "\n",
        "try:\n",
        "    import gmsh\n",
        "except ImportError:\n",
        "    !{sys.executable} -m pip install gmsh\n",
        "    import gmsh\n",
        "\n",
        "!sudo apt install libgl1-mesa-glx xvfb;\n",
        "!{sys.executable} -m pip install pythreejs;\n",
        "!{sys.executable} -m pip install ipygany;\n",
        "!{sys.executable} -m pip install --upgrade PyYAML\n",
        "# !pip install --ignore-installed PyYAML\n",
        "\n"
      ]
    },
    {
      "cell_type": "code",
      "execution_count": 2,
      "metadata": {
        "id": "xPTwn6bxC4S5"
      },
      "outputs": [],
      "source": [
        "%%capture\n",
        "!sudo apt install libgl1-mesa-glx xvfb;\n",
        "!{sys.executable} -m pip install pythreejs;\n",
        "!{sys.executable} -m pip install ipygany;\n",
        "!{sys.executable} -m pip install --upgrade PyYAML\n",
        "# !pip install --ignore-installed PyYAML\n",
        "\n"
      ]
    },
    {
      "cell_type": "markdown",
      "metadata": {
        "id": "QhnaGiklC3nQ"
      },
      "source": [
        "# Fracture\n",
        "\n",
        "\n",
        "Let $\\Omega \\subset (0, L)^D$, with $D=1, 2, 3$, $L$ finite, being the (or one) characteristic length of the specimen.\n",
        "For any \n",
        "- displacement field $u\\in V_t : H^1(\\Omega, R^n) + bcs(t)$ with $n=1, 2$ or $3$, and\n",
        "- damage field $\\alpha \\in H^1(\\Omega, R)$,\n",
        "\n",
        "consider the energy $E(u, \\alpha)$ defined as\n",
        "$$\n",
        "E_\\ell(u, \\alpha)=\\frac{1}{2}\\int_\\Omega a(\\alpha) W(u) dx + \\underbrace{\\frac{G_c}{c_w} \\int \\left(\\frac{1}{\\ell}w(\\alpha) + \\ell |\\nabla \\alpha|^2 \\right)dx}_{\\text{Surface energy}}- \\int_\\Omega f.u dx$$\n",
        "\n",
        "In practice, $\\ell \\ll L$.\n",
        "\n",
        "Above, $W$ is the elastic energy density, reading (in linearised elasticity as) \n",
        "$$ \n",
        "W(u) = Ae(u):e(u)\n",
        "$$\n",
        "where $A$ is the 4-th order tensor of elasticity, in the isotropic and homogeneous case, it corresponds to a linear combination with two coefficients, say, $A_0$ the stiffness (dimensional), and $\\nu$ the Poisson ratio (non-dimensional). \n",
        "\n",
        "\n",
        "Further, $w(\\alpha)$ corresponds to the dissipated energy to damage, homogeneously, the specimen, the gradient term accounts for spatial variations.\n",
        "\n",
        "**Keypoint:** these two terms are weighted by $\\ell$, a parameter that is homogeneous to a length and is understood as a *material* quantity (as opposed to *numerical*).\n",
        "\n",
        "Define $D(\\alpha_0):=\\left\\{ \\alpha \\in H^1(\\Omega), \\alpha \\geq \\alpha_0 \\right\\}$, for some $\\alpha_0(x)\\geq 0$ pointwise. \n",
        "\n",
        "We solve two types of problems (by increasing difficulty):\n",
        "- **The static problem**: Given a load (boundary conditions) and an initial state of damage $\\alpha_0$, what is the equilibrium displacement and repartition of damage?\n",
        "In other terms:\n",
        " \n",
        "$\n",
        "\\text{ min loc} \\left\\{ E_\\ell(u, \\alpha):\n",
        " u \\in V_t, \\alpha \\in D(\\alpha_0) \\right\\}.\n",
        "$\n",
        "\n",
        "- **The evolution problem**: Given a load **history** (boundary conditions as a function of $t$) and an initial state of damage $\\alpha_0$, what is the *evolution* of equilibrium displacement and repartition of damage, i.e. \n",
        "the map $t\\mapsto (u_t, \\alpha_t)$, such that \n",
        "  - (Irrevers.) $\\alpha_t \\nearrow t$,\n",
        "  - (Stability) $(u_t, \\alpha_t) = \\operatorname{arg loc min} \\left\\{ E_\\ell (v, \\beta), (v, \\beta) \\in V_t \\times D(\\alpha_t) \\right\\}$  -->\n",
        "\n"
      ]
    },
    {
      "cell_type": "markdown",
      "metadata": {
        "id": "WJD-kxygsGbY"
      },
      "source": [
        "### Parameters\n",
        "\n",
        "In the energy above:\n",
        "- Two elasticity parameters, such as\n",
        "  - $A_0$ the stiffness of the sound material\n",
        "  - $\\nu$ the Poisson ratio\n",
        "  - equivalently, $\\mu, \\lambda$ the Lamé parameters\n",
        "- Two fracture/damage parameters:\n",
        "  - $\\ell$ the internal damage length\n",
        "  - $G_c$ the material toughness\n",
        "\n",
        "\n",
        "### Back of the envelope computation.\n",
        "\n",
        "1. Show that the energy above can be written as a function of only two non-dimensional parameters (ex.: $\\nu, \\tilde \\ell)$, by dimensional analysis."
      ]
    },
    {
      "cell_type": "code",
      "execution_count": 3,
      "metadata": {
        "colab": {
          "base_uri": "https://localhost:8080/"
        },
        "id": "FwFJxjZRDD1A",
        "outputId": "3e48777c-4ae2-4a3b-b7fd-8248fec4050b"
      },
      "outputs": [
        {
          "output_type": "stream",
          "name": "stdout",
          "text": [
            "Cloning into 'mec647'...\n",
            "remote: Enumerating objects: 901, done.\u001b[K\n",
            "remote: Counting objects: 100% (901/901), done.\u001b[K\n",
            "remote: Compressing objects: 100% (693/693), done.\u001b[K\n",
            "remote: Total 901 (delta 435), reused 451 (delta 182), pack-reused 0\u001b[K\n",
            "Receiving objects: 100% (901/901), 14.14 MiB | 13.40 MiB/s, done.\n",
            "Resolving deltas: 100% (435/435), done.\n"
          ]
        }
      ],
      "source": [
        "branch_name = 'main'\n",
        "\n",
        "!rm -rf mec647\n",
        "try:\n",
        "  !git clone -b {branch_name} https://github.com/kumiori/mec647.git\n",
        "except Exception:\n",
        "  print('Something went wrong')\n",
        "  !rm -rf mec647\n",
        "  !git clone https://github.com/kumiori/mec647.git\n"
      ]
    },
    {
      "cell_type": "code",
      "execution_count": 4,
      "metadata": {
        "id": "B_A6SI2gl7DN"
      },
      "outputs": [],
      "source": [
        "sys.path.append('mec647/')\n"
      ]
    },
    {
      "cell_type": "code",
      "execution_count": 5,
      "metadata": {
        "id": "y6YzSDfJ3Vwz"
      },
      "outputs": [],
      "source": [
        "import matplotlib.pyplot as plt\n",
        "from petsc4py import PETSc\n",
        "import numpy as np\n",
        "from mpi4py import MPI\n",
        "\n",
        "comm = MPI.COMM_WORLD\n",
        "\n",
        "from dolfinx.fem import (\n",
        "    Constant,\n",
        "    Function,\n",
        "    FunctionSpace,\n",
        "    assemble_scalar,\n",
        "    dirichletbc,\n",
        "    form,\n",
        "    locate_dofs_geometrical,\n",
        "    set_bc,\n",
        ")\n",
        "\n",
        "# meshes\n",
        "import meshes\n",
        "from meshes import primitives"
      ]
    },
    {
      "cell_type": "code",
      "execution_count": 6,
      "metadata": {
        "id": "xQC3q28P3Xmv"
      },
      "outputs": [],
      "source": [
        "# Parameters\n",
        "\n",
        "parameters = {\n",
        "    'loading': {\n",
        "        'min': 0,\n",
        "        'max': 1.5,\n",
        "        'steps': 10\n",
        "    },\n",
        "    'geometry': {\n",
        "        'geom_type': 'bar',\n",
        "        'Lx': 1.,\n",
        "        'Ly': 0.1\n",
        "    },\n",
        "    'model': {\n",
        "        'E': 1.,\n",
        "        'nu': 0.,\n",
        "        'w1': 1.,\n",
        "        'ell': 0.05,\n",
        "        'k_res': 1.e-8\n",
        "    },\n",
        "    'solvers': {\n",
        "          'elasticity': {        \n",
        "            'snes': {\n",
        "                'snes_type': 'newtontr',\n",
        "                'snes_stol': 1e-8,\n",
        "                'snes_atol': 1e-8,\n",
        "                'snes_rtol': 1e-8,\n",
        "                'snes_max_it': 100,\n",
        "                'snes_monitor': \"\",\n",
        "                'ksp_type': 'preonly',\n",
        "                'pc_type': 'lu',\n",
        "                'pc_factor_mat_solver_type': 'mumps'\n",
        "            }\n",
        "        },\n",
        "          'damage': {        \n",
        "            'snes': {\n",
        "                'snes_type': 'vinewtonrsls',\n",
        "                'snes_stol': 1e-5,\n",
        "                'snes_atol': 1e-5,\n",
        "                'snes_rtol': 1e-8,\n",
        "                'snes_max_it': 100,\n",
        "                'snes_monitor': \"\",\n",
        "                'ksp_type': 'preonly',\n",
        "                'pc_type': 'lu',\n",
        "                'pc_factor_mat_solver_type': 'mumps'\n",
        "            },\n",
        "        },\n",
        "          'damage_elasticity': {\n",
        "            \"max_it\": 100,\n",
        "            \"alpha_rtol\": 1.0e-5,\n",
        "            \"criterion\": \"alpha_H1\"\n",
        "          }\n",
        "    }\n",
        "}"
      ]
    },
    {
      "cell_type": "code",
      "execution_count": 7,
      "metadata": {
        "id": "2hjc-VWztAgK"
      },
      "outputs": [],
      "source": [
        "# Equivalently\n",
        "import yaml\n",
        "\n",
        "with open(\"mec647/test/parameters.yml\") as f:\n",
        "    parameters = yaml.load(f, Loader=yaml.FullLoader)\n"
      ]
    },
    {
      "cell_type": "code",
      "execution_count": 8,
      "metadata": {
        "colab": {
          "base_uri": "https://localhost:8080/"
        },
        "id": "wRJtcLKk3iEC",
        "outputId": "03f28b4e-d2e1-4c62-8cbb-98b5730e2f11"
      },
      "outputs": [
        {
          "output_type": "execute_result",
          "data": {
            "text/plain": [
              "0.1"
            ]
          },
          "metadata": {},
          "execution_count": 8
        }
      ],
      "source": [
        "parameters.get(\"model\").get(\"ell\")"
      ]
    },
    {
      "cell_type": "code",
      "execution_count": 9,
      "metadata": {
        "colab": {
          "base_uri": "https://localhost:8080/",
          "height": 84
        },
        "id": "uGvOIlvU3d0-",
        "outputId": "53ec22b7-1211-4a51-ef31-4621897929e0"
      },
      "outputs": [
        {
          "output_type": "display_data",
          "data": {
            "image/png": "[encoded data removed]",
            "text/plain": [
              "<Figure size 432x288 with 1 Axes>"
            ]
          },
          "metadata": {
            "needs_background": "light"
          }
        }
      ],
      "source": [
        "# Mesh\n",
        "\n",
        "Lx = parameters[\"geometry\"][\"Lx\"]\n",
        "Ly = parameters[\"geometry\"][\"Ly\"]\n",
        "geom_type = parameters[\"geometry\"][\"geom_type\"]\n",
        "\n",
        "gmsh_model, tdim = primitives.mesh_bar_gmshapi(geom_type,\n",
        "                                    Lx, \n",
        "                                    Ly, \n",
        "                                    parameters.get(\"model\").get(\"ell\")/3, \n",
        "                                    tdim=2)\n",
        "\n",
        "mesh, mts = meshes.gmsh_model_to_mesh(gmsh_model,\n",
        "                               cell_data=False,\n",
        "                               facet_data=True,\n",
        "                               gdim=2)\n",
        "\n",
        "\n",
        "from utils.viz import plot_mesh\n",
        "\n",
        "plt.figure()\n",
        "ax = plot_mesh(mesh)\n",
        "fig = ax.get_figure()\n",
        "fig.savefig(f\"mesh.png\")\n"
      ]
    },
    {
      "cell_type": "code",
      "execution_count": 10,
      "metadata": {
        "id": "YbtAhOV538kj"
      },
      "outputs": [],
      "source": [
        "# Functional Setting\n",
        "\n",
        "element_u = ufl.VectorElement(\"Lagrange\", mesh.ufl_cell(),\n",
        "                              degree=1, dim=2)\n",
        "\n",
        "element_alpha = ufl.FiniteElement(\"Lagrange\", mesh.ufl_cell(),\n",
        "                              degree=1)\n",
        "\n",
        "V_u = dolfinx.fem.FunctionSpace(mesh, element_u) \n",
        "V_alpha = dolfinx.fem.FunctionSpace(mesh, element_alpha) \n",
        "\n",
        "u = dolfinx.fem.Function(V_u, name=\"Displacement\")\n",
        "u_ = dolfinx.fem.Function(V_u, name=\"BoundaryDisplacement\")\n",
        "\n",
        "\n",
        "alpha = dolfinx.fem.Function(V_alpha, name=\"Damage\")\n",
        "\n",
        "# Pack state\n",
        "state = {\"u\": u, \"alpha\": alpha}\n",
        "\n",
        "# Bounds\n",
        "alpha_ub = dolfinx.fem.Function(V_alpha, name=\"UpperBoundDamage\")\n",
        "alpha_lb = dolfinx.fem.Function(V_alpha, name=\"LowerBoundDamage\")\n",
        "\n",
        "\n",
        "\n",
        "dx = ufl.Measure(\"dx\", domain = mesh)\n",
        "ds = ufl.Measure(\"ds\", domain = mesh)"
      ]
    },
    {
      "cell_type": "code",
      "execution_count": 11,
      "metadata": {
        "id": "sEJ-jkLR4Wgc"
      },
      "outputs": [],
      "source": [
        "# Boundary sets\n",
        "\n",
        "dofs_alpha_left = locate_dofs_geometrical(V_alpha, lambda x: np.isclose(x[0], 0.))\n",
        "dofs_alpha_right = locate_dofs_geometrical(V_alpha, lambda x: np.isclose(x[0], Lx))\n",
        "\n",
        "dofs_u_left = locate_dofs_geometrical(V_u, lambda x: np.isclose(x[0], 0.))\n",
        "dofs_u_right = locate_dofs_geometrical(V_u, lambda x: np.isclose(x[0], Lx))"
      ]
    },
    {
      "cell_type": "code",
      "execution_count": 12,
      "metadata": {
        "id": "9opnlp5F6QRV"
      },
      "outputs": [],
      "source": [
        "# Boundary data\n",
        "\n",
        "u_.interpolate(lambda x: (np.ones_like(x[0]), np.zeros_like(x[1])))\n",
        "\n",
        "# Bounds (nontrivial)\n",
        "\n",
        "alpha_lb.interpolate(lambda x: np.zeros_like(x[0]))\n",
        "alpha_ub.interpolate(lambda x: np.ones_like(x[0]))"
      ]
    },
    {
      "cell_type": "code",
      "execution_count": 13,
      "metadata": {
        "id": "O0K_yA_G4glE"
      },
      "outputs": [],
      "source": [
        "# Boundary conditions\n",
        "\n",
        "bcs_u = [\n",
        "         dirichletbc(np.array([0., 0.], dtype=PETSc.ScalarType),\n",
        "                      dofs_u_left,\n",
        "                      V_u),\n",
        "         dirichletbc(u_, dofs_u_right)\n",
        "         ]\n",
        "\n",
        "bcs_alpha = [\n",
        "             dirichletbc(np.array(0., dtype = PETSc.ScalarType),\n",
        "                         np.concatenate([dofs_alpha_left, dofs_alpha_right]),\n",
        "                         V_alpha)\n",
        "]\n"
      ]
    },
    {
      "cell_type": "code",
      "execution_count": 43,
      "metadata": {
        "id": "nldNjjoF7h1X"
      },
      "outputs": [],
      "source": [
        "import models\n",
        "from models import DamageElasticityModel as Brittle"
      ]
    },
    {
      "cell_type": "code",
      "execution_count": 44,
      "metadata": {
        "id": "qi88nswf4iY1"
      },
      "outputs": [],
      "source": [
        "bcs = {\"bcs_u\": bcs_u, \"bcs_alpha\": bcs_alpha}\n",
        "\n",
        "model = Brittle(parameters[\"model\"])\n",
        "\n",
        "\n",
        "total_energy = model.total_energy_density(state) * dx"
      ]
    },
    {
      "cell_type": "code",
      "execution_count": 45,
      "metadata": {
        "id": "XgSMuKMq8SlY"
      },
      "outputs": [],
      "source": [
        "import algorithms\n",
        "from algorithms import am"
      ]
    },
    {
      "cell_type": "code",
      "execution_count": 46,
      "metadata": {
        "id": "DKcj0EB48dz4"
      },
      "outputs": [],
      "source": [
        "solver = am.AlternateMinimisation(total_energy,\n",
        "                         state,\n",
        "                         bcs,\n",
        "                         parameters.get(\"solvers\"),\n",
        "                         bounds=(alpha_lb, alpha_ub)\n",
        "                         )"
      ]
    },
    {
      "cell_type": "code",
      "execution_count": 47,
      "metadata": {
        "colab": {
          "base_uri": "https://localhost:8080/"
        },
        "id": "n6gLZCY9-TSC",
        "outputId": "f6851a98-3971-431c-fb21-fd34dc5058a4"
      },
      "outputs": [
        {
          "output_type": "stream",
          "name": "stdout",
          "text": [
            "Solving timestep 0, load: 0.0\n",
            "  0 SNES Function norm 2.732865984135e+00 \n",
            "  1 SNES Function norm 2.186292787308e+00 \n",
            "  2 SNES Function norm 1.093146393654e+00 \n",
            "  3 SNES Function norm 1.052459968179e-15 \n",
            "  0 SNES Function norm 0.000000000000e+00 \n",
            "Solved timestep 0, load: 0.0\n",
            "Elastic Energy 2.07e-30, Surface energy: 0.0296\n",
            "\n",
            "\n",
            "\n",
            "Solving timestep 1, load: 0.11122222222222221\n",
            "  0 SNES Function norm 3.036517760150e-01 \n",
            "  1 SNES Function norm 3.036517760149e-01 \n",
            "  2 SNES Function norm 3.036517760149e-01 \n",
            "  3 SNES Function norm 3.036517760149e-01 \n",
            "  4 SNES Function norm 3.036517760148e-01 \n",
            "  5 SNES Function norm 3.036517760147e-01 \n",
            "  6 SNES Function norm 3.036517760145e-01 \n",
            "  7 SNES Function norm 3.036517760140e-01 \n",
            "  8 SNES Function norm 3.036517760130e-01 \n",
            "  9 SNES Function norm 3.036517760111e-01 \n",
            " 10 SNES Function norm 3.036517760072e-01 \n",
            " 11 SNES Function norm 3.036517759994e-01 \n",
            " 12 SNES Function norm 3.036517759838e-01 \n",
            " 13 SNES Function norm 3.036517759526e-01 \n",
            " 14 SNES Function norm 3.036517758903e-01 \n",
            " 15 SNES Function norm 3.036517757656e-01 \n",
            " 16 SNES Function norm 3.036517755162e-01 \n",
            " 17 SNES Function norm 3.036517750175e-01 \n",
            " 18 SNES Function norm 3.036517740200e-01 \n",
            " 19 SNES Function norm 3.036517720251e-01 \n",
            " 20 SNES Function norm 3.036517680353e-01 \n",
            " 21 SNES Function norm 3.036517600555e-01 \n",
            " 22 SNES Function norm 3.036517440961e-01 \n",
            " 23 SNES Function norm 3.036517121773e-01 \n",
            " 24 SNES Function norm 3.036516483396e-01 \n",
            " 25 SNES Function norm 3.036515206643e-01 \n",
            " 26 SNES Function norm 3.036512653136e-01 \n",
            " 27 SNES Function norm 3.036507546122e-01 \n",
            " 28 SNES Function norm 3.036497332094e-01 \n",
            " 29 SNES Function norm 3.036476904038e-01 \n",
            " 30 SNES Function norm 3.036436047927e-01 \n",
            " 31 SNES Function norm 3.036354335705e-01 \n",
            " 32 SNES Function norm 3.036190911260e-01 \n",
            " 33 SNES Function norm 3.035864062370e-01 \n",
            " 34 SNES Function norm 3.035210364590e-01 \n",
            " 35 SNES Function norm 3.033902969031e-01 \n",
            " 36 SNES Function norm 3.031288177912e-01 \n",
            " 37 SNES Function norm 3.026058595674e-01 \n",
            " 38 SNES Function norm 3.015599431198e-01 \n",
            " 39 SNES Function norm 2.994681102246e-01 \n",
            " 40 SNES Function norm 2.952844444342e-01 \n",
            " 41 SNES Function norm 2.869171128535e-01 \n",
            " 42 SNES Function norm 2.701824496920e-01 \n",
            " 43 SNES Function norm 2.367131233690e-01 \n",
            " 44 SNES Function norm 1.697744707230e-01 \n",
            " 45 SNES Function norm 3.589716543095e-02 \n",
            " 46 SNES Function norm 7.276061962838e-17 \n",
            "  0 SNES Function norm 0.000000000000e+00 \n",
            "Solved timestep 1, load: 0.11122222222222221\n",
            "Elastic Energy 1.43e-05, Surface energy: 0.0296\n",
            "\n",
            "\n",
            "\n",
            "Solving timestep 2, load: 0.22244444444444442\n",
            "  0 SNES Function norm 3.036517760150e-01 \n",
            "  1 SNES Function norm 2.429214208120e-01 \n",
            "  2 SNES Function norm 1.214607104060e-01 \n",
            "  3 SNES Function norm 1.923022477531e-16 \n",
            "  0 SNES Function norm 0.000000000000e+00 \n",
            "Solved timestep 2, load: 0.22244444444444442\n",
            "Elastic Energy 5.71e-05, Surface energy: 0.0296\n",
            "\n",
            "\n",
            "\n",
            "Solving timestep 3, load: 0.3336666666666666\n",
            "  0 SNES Function norm 3.036517760150e-01 \n",
            "  1 SNES Function norm 1.821910656090e-01 \n",
            "  2 SNES Function norm 3.997573089043e-16 \n",
            "  0 SNES Function norm 0.000000000000e+00 \n",
            "Solved timestep 3, load: 0.3336666666666666\n",
            "Elastic Energy 0.000129, Surface energy: 0.0296\n",
            "\n",
            "\n",
            "\n",
            "Solving timestep 4, load: 0.44488888888888883\n",
            "  0 SNES Function norm 3.036517760150e-01 \n",
            "  1 SNES Function norm 1.214607104060e-01 \n",
            "  2 SNES Function norm 2.907252479831e-16 \n",
            "  0 SNES Function norm 0.000000000000e+00 \n",
            "Solved timestep 4, load: 0.44488888888888883\n",
            "Elastic Energy 0.000229, Surface energy: 0.0296\n",
            "\n",
            "\n",
            "\n",
            "Solving timestep 5, load: 0.556111111111111\n",
            "  0 SNES Function norm 3.036517760150e-01 \n",
            "  1 SNES Function norm 6.073035520299e-02 \n",
            "  2 SNES Function norm 4.962013634004e-16 \n",
            "  0 SNES Function norm 0.000000000000e+00 \n",
            "Solved timestep 5, load: 0.556111111111111\n",
            "Elastic Energy 0.000357, Surface energy: 0.0296\n",
            "\n",
            "\n",
            "\n",
            "Solving timestep 6, load: 0.6673333333333332\n",
            "  0 SNES Function norm 3.036517760150e-01 \n",
            "  1 SNES Function norm 5.970400365120e-16 \n",
            "  0 SNES Function norm 0.000000000000e+00 \n",
            "Solved timestep 6, load: 0.6673333333333332\n",
            "Elastic Energy 0.000514, Surface energy: 0.0296\n",
            "\n",
            "\n",
            "\n",
            "Solving timestep 7, load: 0.7785555555555554\n",
            "  0 SNES Function norm 3.036517760150e-01 \n",
            "  1 SNES Function norm 5.272197389841e-16 \n",
            "  0 SNES Function norm 0.000000000000e+00 \n",
            "Solved timestep 7, load: 0.7785555555555554\n",
            "Elastic Energy 0.0007, Surface energy: 0.0296\n",
            "\n",
            "\n",
            "\n",
            "Solving timestep 8, load: 0.8897777777777777\n",
            "  0 SNES Function norm 3.036517760150e-01 \n",
            "  1 SNES Function norm 5.695931290043e-16 \n",
            "  0 SNES Function norm 0.000000000000e+00 \n",
            "Solved timestep 8, load: 0.8897777777777777\n",
            "Elastic Energy 0.000914, Surface energy: 0.0296\n",
            "\n",
            "\n",
            "\n",
            "Solving timestep 9, load: 1.001\n",
            "  0 SNES Function norm 3.036517760150e-01 \n",
            "  1 SNES Function norm 5.883070644296e-16 \n",
            "  0 SNES Function norm 4.456337140413e-06 \n",
            "Solved timestep 9, load: 1.001\n",
            "Elastic Energy 0.00116, Surface energy: 0.0296\n",
            "\n",
            "\n",
            "\n"
          ]
        }
      ],
      "source": [
        "# Loop for evolution\n",
        "\n",
        "\n",
        "loads = np.linspace(parameters.get(\"loading\").get(\"min\"),\n",
        "                    parameters.get(\"loading\").get(\"max\"),\n",
        "                    parameters.get(\"loading\").get(\"steps\"))\n",
        "\n",
        "data = {\n",
        "    'elastic': [],\n",
        "    'surface': [],\n",
        "    'total': [],\n",
        "    'load': []\n",
        "}\n",
        "for (i_t, t) in enumerate(loads):\n",
        "  # update boundary conditions\n",
        "\n",
        "  u_.interpolate(lambda x: (t * np.ones_like(x[0]), np.zeros_like(x[1])))\n",
        "  u_.vector.ghostUpdate(addv=PETSc.InsertMode.INSERT,\n",
        "                        mode=PETSc.ScatterMode.FORWARD)\n",
        "\n",
        "  # update lower bound for damage\n",
        "  alpha.vector.copy(alpha_lb.vector)\n",
        "  alpha.vector.ghostUpdate(addv=PETSc.InsertMode.INSERT,\n",
        "                        mode=PETSc.ScatterMode.FORWARD)\n",
        "\n",
        "  # solve for current load step\n",
        "  print(f\"Solving timestep {i_t}, load: {t}\")\n",
        "\n",
        "  solver.solve()\n",
        "\n",
        "  # postprocessing\n",
        "  # global\n",
        "\n",
        "  surface_energy = comm.allreduce(\n",
        "          assemble_scalar(\n",
        "            dolfinx.fem.form(model.damage_dissipation_density(state) * dx)),\n",
        "          op=MPI.SUM\n",
        "          )\n",
        "\n",
        "  elastic_energy = comm.allreduce(\n",
        "      assemble_scalar(\n",
        "        dolfinx.fem.form(model.elastic_energy_density(state) * dx)),\n",
        "          op=MPI.SUM\n",
        "        )\n",
        "  \n",
        "  data.get('elastic').append(elastic_energy)\n",
        "  data.get('surface').append(surface_energy)\n",
        "  data.get('total').append(surface_energy+elastic_energy)\n",
        "  data.get('load').append(t)\n",
        "\n",
        "  print(f\"Solved timestep {i_t}, load: {t}\")\n",
        "  print(f\"Elastic Energy {elastic_energy:.3g}, Surface energy: {surface_energy:.3g}\")\n",
        "  print(\"\\n\\n\")\n",
        "\n",
        "  # savings?\n",
        "\n",
        "\n",
        "\n",
        "\n",
        "\n",
        "\n"
      ]
    },
    {
      "cell_type": "code",
      "execution_count": 48,
      "metadata": {
        "colab": {
          "base_uri": "https://localhost:8080/",
          "height": 333
        },
        "id": "9ePMBvwzmzZ2",
        "outputId": "674fe828-7993-4189-def7-5afea2b656ea"
      },
      "outputs": [
        {
          "output_type": "execute_result",
          "data": {
            "text/plain": [
              "([<matplotlib.axis.XTick at 0x7f9cd308f950>,\n",
              "  <matplotlib.axis.XTick at 0x7f9cd308fa10>],\n",
              " [Text(0, 0, '0'), Text(0, 0, '1')])"
            ]
          },
          "metadata": {},
          "execution_count": 48
        },
        {
          "output_type": "display_data",
          "data": {
            "image/png": "[encoded data removed]",
            "text/plain": [
              "<Figure size 432x288 with 1 Axes>"
            ]
          },
          "metadata": {
            "needs_background": "light"
          }
        }
      ],
      "source": [
        "plt.plot(data.get('load'), data.get('surface'), label='surface')\n",
        "plt.plot(data.get('load'), data.get('elastic'), label='elastic')\n",
        "plt.plot(data.get('load'), [1./2. * t**2*Ly for t in data.get('load')], label='anal elast', ls=':', c='k')\n",
        "\n",
        "plt.title('Traction bar energetics')\n",
        "plt.legend()\n",
        "plt.yticks([0, 1/20], [0, '$1/2.\\sigma_c^2/E_0$'])\n",
        "plt.xticks([0, 1], [0, 1])"
      ]
    },
    {
      "cell_type": "code",
      "execution_count": 49,
      "metadata": {
        "id": "w4p1xwzGoL1a"
      },
      "outputs": [],
      "source": [
        "# experiments\n",
        "params0, data0 = parameters, data\n"
      ]
    },
    {
      "cell_type": "code",
      "execution_count": 65,
      "metadata": {
        "id": "xS0Fi_bKBzEU",
        "outputId": "e63524d8-2e46-435d-caf0-b751478aaa07",
        "colab": {
          "base_uri": "https://localhost:8080/",
          "height": 298
        }
      },
      "outputs": [
        {
          "output_type": "execute_result",
          "data": {
            "text/plain": [
              "Text(0.5, 1.0, 'Traction bar damage profile')"
            ]
          },
          "metadata": {},
          "execution_count": 65
        },
        {
          "output_type": "display_data",
          "data": {
            "image/png": "[encoded data removed]",
            "text/plain": [
              "<Figure size 432x288 with 1 Axes>"
            ]
          },
          "metadata": {
            "needs_background": "light"
          }
        }
      ],
      "source": [
        "from utils.viz import plot_vector, plot_scalar, plot_profile\n",
        "\n",
        "_ell = parameters.get('model').get('ell')\n",
        "tol = 1e-3\n",
        "xs = np.linspace(0 + tol, Lx - tol, 101)\n",
        "points = np.zeros((3, 101))\n",
        "points[0] = xs\n",
        "\n",
        "xvfb.start_xvfb(wait=0.05)\n",
        "pyvista.OFF_SCREEN = True\n",
        "plotter = pyvista.Plotter(\n",
        "        title=\"Displacement\",\n",
        "        window_size=[1600, 600],\n",
        "        shape=(1, 2),\n",
        "    )\n",
        "\n",
        "\n",
        "\n",
        "_plt, data = plot_profile(\n",
        "    alpha,\n",
        "    points,\n",
        "    plotter,\n",
        "    subplot=(0, 0),\n",
        "    lineproperties={\n",
        "        \"c\": \"k\",\n",
        "        \"label\": f\"$alpha$ with $\\ell$ = {_ell:.2f}\"\n",
        "    },\n",
        ")\n",
        "ax = _plt.gca()\n",
        "ax.axvline(0.0, c=\"k\")\n",
        "ax.axvline(2 * _ell, c=\"k\", label='D=$2\\ell$')\n",
        "\n",
        "\n",
        "_plt.legend()\n",
        "_plt.fill_between(data[0], data[1].reshape(len(data[1])))\n",
        "_plt.title(\"Traction bar damage profile\")\n"
      ]
    },
    {
      "cell_type": "code",
      "execution_count": null,
      "metadata": {
        "id": "6k74D2lABzEV"
      },
      "outputs": [],
      "source": [
        ""
      ]
    }
  ],
  "metadata": {
    "colab": {
      "collapsed_sections": [],
      "name": "mec647_Testbed_8.ipynb",
      "provenance": [],
      "include_colab_link": true
    },
    "kernelspec": {
      "display_name": "Python 3",
      "name": "python3"
    },
    "language_info": {
      "name": "python"
    }
  },
  "nbformat": 4,
  "nbformat_minor": 0
}