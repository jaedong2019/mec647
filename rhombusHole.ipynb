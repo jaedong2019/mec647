{
  "nbformat": 4,
  "nbformat_minor": 0,
  "metadata": {
    "colab": {
      "name": "Untitled0.ipynb",
      "provenance": [],
      "authorship_tag": "ABX9TyM/tEwmnCh3PI7BLHS/9iwi",
      "include_colab_link": true
    },
    "kernelspec": {
      "name": "python3",
      "display_name": "Python 3"
    },
    "language_info": {
      "name": "python"
    }
  },
  "cells": [
    {
      "cell_type": "markdown",
      "metadata": {
        "id": "view-in-github",
        "colab_type": "text"
      },
      "source": [
        "<a href=\"https://colab.research.google.com/github/kumiori/mec647/blob/francoisfernet---mesh/rhombusHole.ipynb\" target=\"_parent\"><img src=\"https://colab.research.google.com/assets/colab-badge.svg\" alt=\"Open In Colab\"/></a>"
      ]
    },
    {
      "cell_type": "code",
      "execution_count": 1,
      "metadata": {
        "id": "on2uD6aypvMY"
      },
      "outputs": [],
      "source": [
        "%%capture\n",
        "import sys\n",
        "\n",
        "try:\n",
        "    import google.colab  # noqa: F401\n",
        "except ImportError:\n",
        "    import ufl  # noqa: F401\n",
        "    import dolfinx  # noqa: F401\n",
        "else:\n",
        "    try:\n",
        "        import ufl\n",
        "        import dolfinx\n",
        "    except ImportError:\n",
        "        !wget \"https://fem-on-colab.github.io/releases/fenicsx-install.sh\" -O \"/tmp/fenicsx-install.sh\" && bash \"/tmp/fenicsx-install.sh\";\n",
        "        import ufl  # noqa: F401\n",
        "        import dolfinx  # noqa: F401"
      ]
    },
    {
      "cell_type": "code",
      "source": [
        "%%capture\n",
        "!sudo apt install libgl1-mesa-glx xvfb;\n",
        "!{sys.executable} -m pip install pythreejs;\n",
        "!{sys.executable} -m pip install ipygany;\n",
        "!{sys.executable} -m pip install --upgrade pyyaml\n",
        "try:\n",
        "    import google.colab\n",
        "except ImportError:\n",
        "    pass\n",
        "else:\n",
        "    pass\n",
        "    # google.colab.output.enable_custom_widget_manager();\n",
        "try:\n",
        "    import pyvista\n",
        "except ImportError:\n",
        "    !pip3 install --upgrade pyvista itkwidgets;\n",
        "    import pyvista  # noqa: F401\n",
        "    from pyvista.utilities import xvfb\n",
        "\n",
        "try:\n",
        "    import gmsh\n",
        "except ImportError:\n",
        "    !{sys.executable} -m pip install gmsh\n",
        "    import gmsh"
      ],
      "metadata": {
        "id": "3ymLnc6Vpy-y"
      },
      "execution_count": 2,
      "outputs": []
    },
    {
      "cell_type": "code",
      "source": [
        "!rm -rf mec647\n",
        "\n",
        "try:\n",
        "  !git clone https://github.com/kumiori/mec647.git\n",
        "except Exception:\n",
        "  print('Something went wrong')\n",
        "\n",
        "  !rm -rf mec647\n",
        "  !git clone https://github.com/kumiori/mec647.git\n"
      ],
      "metadata": {
        "colab": {
          "base_uri": "https://localhost:8080/"
        },
        "id": "72_AHOmVp2Dy",
        "outputId": "2eb58323-fa43-4c7c-a2a0-6c6a88157165"
      },
      "execution_count": 3,
      "outputs": [
        {
          "output_type": "stream",
          "name": "stdout",
          "text": [
            "Cloning into 'mec647'...\n",
            "remote: Enumerating objects: 613, done.\u001b[K\n",
            "remote: Counting objects: 100% (613/613), done.\u001b[K\n",
            "remote: Compressing objects: 100% (501/501), done.\u001b[K\n",
            "remote: Total 613 (delta 270), reused 265 (delta 93), pack-reused 0\u001b[K\n",
            "Receiving objects: 100% (613/613), 12.49 MiB | 13.25 MiB/s, done.\n",
            "Resolving deltas: 100% (270/270), done.\n"
          ]
        }
      ]
    },
    {
      "cell_type": "code",
      "source": [
        "sys.path.append('mec647/')\n"
      ],
      "metadata": {
        "id": "XfbaspGUp3Ku"
      },
      "execution_count": 4,
      "outputs": []
    },
    {
      "cell_type": "code",
      "source": [
        "from utils.viz import plot_mesh"
      ],
      "metadata": {
        "id": "XZ-20Zkep5hh"
      },
      "execution_count": 5,
      "outputs": []
    },
    {
      "cell_type": "code",
      "source": [
        "\n",
        "from mpi4py import MPI\n",
        "\n",
        "\n",
        "def mesh_kink(name,\n",
        "                     Lx,\n",
        "                     Ly,\n",
        "                     lc,\n",
        "                     tdim,\n",
        "                     order=1,\n",
        "                     msh_file=None,\n",
        "                     comm=MPI.COMM_WORLD):\n",
        "    \"\"\"\n",
        "    Create mesh of 3d tensile test specimen according to ISO 6892-1:2019 using the Python API of Gmsh.\n",
        "    \"\"\"\n",
        "    # Perform Gmsh work only on rank = 0\n",
        "\n",
        "    if comm.rank == 0:\n",
        "\n",
        "        import gmsh\n",
        "\n",
        "        # Initialise gmsh and set options\n",
        "        gmsh.initialize()\n",
        "        gmsh.option.setNumber(\"General.Terminal\", 1)\n",
        "\n",
        "        gmsh.option.setNumber(\"Mesh.Algorithm\", 6)\n",
        "        model = gmsh.model()\n",
        "        model.add(\"Rectangle\")\n",
        "        model.setCurrent(\"Rectangle\")\n",
        "        # points = [p1, p2, p3, p4, p5, p6, p7, p8]\n",
        "        p1 = model.geo.addPoint(0.0, 0.0, 0, lc, tag=1)\n",
        "        p2 = model.geo.addPoint(Lx, 0.0, 0, lc, tag=2)\n",
        "        p3 = model.geo.addPoint(Lx, Ly, 0.0, lc, tag=3)\n",
        "        p4 = model.geo.addPoint(0, Ly, 0, lc, tag=4)\n",
        "        p5 = model.geo.addPoint(7.5, 15, 0.0, lc, tag=5)\n",
        "        p6 = model.geo.addPoint(6, 12.5, 0, lc, tag=6)\n",
        "        p7 = model.geo.addPoint(7.5, 11, 0, lc, tag=7)\n",
        "        p8 = model.geo.addPoint(9, 12.5, 0, lc, tag=8)\n",
        "        #Les lignes = [L1, L2, L3, L4, L5, L6, L7, L8]\n",
        "        L1 = model.geo.addLine(p1, p2, tag=1)\n",
        "        L2 = model.geo.addLine(p2, p3, tag=2)\n",
        "        L3 = model.geo.addLine(p3, p4, tag=3)\n",
        "        L4= model.geo.addLine(p4, p1, tag=4)\n",
        "        L5 = model.geo.addLine(p5, p6, tag=5)\n",
        "        L6 = model.geo.addLine(p6, p7, tag=6)\n",
        "        L7 = model.geo.addLine(p7, p8, tag=7)\n",
        "        L8 = model.geo.addLine(p8, p5, tag=8)\n",
        "        cloop1 = model.geo.addCurveLoop([L1, L2, L3, L4])\n",
        "        cloop2 = model.geo.addCurveLoop([L5, L6, L7, L8])\n",
        "        # surface_1 =\n",
        "        model.geo.addPlaneSurface([cloop1, cloop2])\n",
        "\n",
        "        model.geo.synchronize()\n",
        "        surface_entities = [model[1] for model in model.getEntities(tdim)]\n",
        "        model.addPhysicalGroup(tdim, surface_entities, tag=1)\n",
        "        model.setPhysicalName(tdim, 1, \"Bottom  of the Plate\")\n",
        "        model.addPhysicalGroup(tdim, surface_entities, tag=4)\n",
        "        model.setPhysicalName(tdim, 4, \" Top  of the Plate\")\n",
        "        model.addPhysicalGroup(tdim, surface_entities, tag=5)\n",
        "        model.setPhysicalName(tdim, 5, \" 1/2 Top of the TipCrack\")\n",
        "        model.addPhysicalGroup(tdim, surface_entities, tag=6)\n",
        "        model.setPhysicalName(tdim, 6, \" 1/2 Top of the TipCrack\")\n",
        "        model.addPhysicalGroup(tdim, surface_entities, tag=7)\n",
        "        model.setPhysicalName(tdim, 7, \"1/2 bottom of the TipCrack\")\n",
        "        model.addPhysicalGroup(tdim, surface_entities, tag=8)\n",
        "        model.setPhysicalName(tdim, 8, \"1/2 bottom of the TipCrack\")\n",
        "\n",
        "        # Set mesh size via points\n",
        "        # gmsh.model.mesh.setSize(points, lc)  # heuristic\n",
        "\n",
        "        # gmsh.model.mesh.optimize(\"Netgen\")\n",
        "\n",
        "        # Set geometric order of mesh cells\n",
        "        gmsh.model.mesh.setOrder(order)\n",
        "\n",
        "        # Define physical groups for subdomains (! target tag > 0)\n",
        "        # domain = 1\n",
        "        # gmsh.model.addPhysicalGroup(tdim, [v[1] for v in volumes], domain)\n",
        "        # gmsh.model.setPhysicalName(tdim, domain, 'domain')\n",
        "        gmsh.model.addPhysicalGroup(tdim - 1, [1], tag=9)\n",
        "        gmsh.model.setPhysicalName(tdim - 1, 9, \"Bottom  of the Plate\")\n",
        "        gmsh.model.addPhysicalGroup(tdim - 1, [4], tag=10)\n",
        "        gmsh.model.setPhysicalName(tdim - 1, 10, \"Top  of the Plate\")\n",
        "        gmsh.model.addPhysicalGroup(tdim - 1, [5], tag=11)\n",
        "        gmsh.model.setPhysicalName(tdim - 1, 11, \"1/2 Top of the TipCrack\")\n",
        "        gmsh.model.addPhysicalGroup(tdim - 1, [6], tag=12)\n",
        "        gmsh.model.setPhysicalName(tdim - 1, 12, \"1/2 Top of the TipCrack\")\n",
        "        gmsh.model.addPhysicalGroup(tdim - 1, [7], tag=13)\n",
        "        gmsh.model.setPhysicalName(tdim - 1, 13, \"1/2 bottom of the TipCrack\")\n",
        "        gmsh.model.addPhysicalGroup(tdim - 1, [8], tag=14)\n",
        "        gmsh.model.setPhysicalName(tdim - 1, 14, \"1/2 bottom of the TipCrack\")\n",
        "        \n",
        "\n",
        "        model.mesh.generate(tdim)\n",
        "\n",
        "        #Generating the mesh\n",
        "    model.geo.synchronize()\n",
        "    model.mesh.generate(tdim)\n",
        "\n",
        "    return gmsh.model\n",
        "\n",
        "mesh=mesh_kink('mesh', 15, 25, 1, 2, 1,)"
      ],
      "metadata": {
        "id": "DKQiFISYp7Gu"
      },
      "execution_count": 1,
      "outputs": []
    },
    {
      "cell_type": "code",
      "source": [
        "import meshes\n",
        "from meshes import primitives\n",
        "\n",
        "\n"
      ],
      "metadata": {
        "colab": {
          "base_uri": "https://localhost:8080/",
          "height": 356
        },
        "id": "VUar1aiEp-GZ",
        "outputId": "d4303c1c-d612-4a5e-ec39-e489be99cb3c"
      },
      "execution_count": 2,
      "outputs": [
        {
          "output_type": "error",
          "ename": "ModuleNotFoundError",
          "evalue": "ignored",
          "traceback": [
            "\u001b[0;31m---------------------------------------------------------------------------\u001b[0m",
            "\u001b[0;31mModuleNotFoundError\u001b[0m                       Traceback (most recent call last)",
            "\u001b[0;32m<ipython-input-2-2cdff10a3095>\u001b[0m in \u001b[0;36m<module>\u001b[0;34m()\u001b[0m\n\u001b[0;32m----> 1\u001b[0;31m \u001b[0;32mimport\u001b[0m \u001b[0mmeshes\u001b[0m\u001b[0;34m\u001b[0m\u001b[0;34m\u001b[0m\u001b[0m\n\u001b[0m\u001b[1;32m      2\u001b[0m \u001b[0;32mfrom\u001b[0m \u001b[0mmeshes\u001b[0m \u001b[0;32mimport\u001b[0m \u001b[0mprimitives\u001b[0m\u001b[0;34m\u001b[0m\u001b[0;34m\u001b[0m\u001b[0m\n\u001b[1;32m      3\u001b[0m \u001b[0;34m\u001b[0m\u001b[0m\n\u001b[1;32m      4\u001b[0m \u001b[0;34m\u001b[0m\u001b[0m\n",
            "\u001b[0;31mModuleNotFoundError\u001b[0m: No module named 'meshes'",
            "",
            "\u001b[0;31m---------------------------------------------------------------------------\u001b[0;32m\nNOTE: If your import is failing due to a missing package, you can\nmanually install dependencies using either !pip or !apt.\n\nTo view examples of installing some common dependencies, click the\n\"Open Examples\" button below.\n\u001b[0;31m---------------------------------------------------------------------------\u001b[0m\n"
          ],
          "errorDetails": {
            "actions": [
              {
                "action": "open_url",
                "actionText": "Open Examples",
                "url": "/notebooks/snippets/importing_libraries.ipynb"
              }
            ]
          }
        }
      ]
    },
    {
      "cell_type": "code",
      "source": [
        "# Parameters\n",
        "\n",
        "parameters = {\n",
        "    'loading': {\n",
        "        'min': 0,\n",
        "        'max': 1,\n",
        "        'nteps': 10\n",
        "    },\n",
        "    'geometry': {\n",
        "        'geom_type': 'bar',\n",
        "        'Lx': 1.,\n",
        "        'Ly': 0.1\n",
        "    },\n",
        "    'model': {\n",
        "        'E': 1.,\n",
        "        'nu': 0.,\n",
        "        'w1': 1.,\n",
        "        'ell': 0.1,\n",
        "        'k_res': 1.e-8\n",
        "    },\n",
        "    'solvers': {\n",
        "          'elasticity': {        \n",
        "            'snes': {\n",
        "                'snes_type': 'newtontr',\n",
        "                'snes_stol': 1e-8,\n",
        "                'snes_atol': 1e-8,\n",
        "                'snes_rtol': 1e-8,\n",
        "                'snes_max_it': 100,\n",
        "                'snes_monitor': \"\",\n",
        "                'ksp_type': 'preonly',\n",
        "                'pc_type': 'lu',\n",
        "                'pc_factor_mat_solver_type': 'mumps'\n",
        "            }\n",
        "        },\n",
        "          'damage': {        \n",
        "            'snes': {\n",
        "                'snes_type': 'vinewtonrsls',\n",
        "                'snes_stol': 1e-5,\n",
        "                'snes_atol': 1e-5,\n",
        "                'snes_rtol': 1e-8,\n",
        "                'snes_max_it': 100,\n",
        "                'snes_monitor': \"\",\n",
        "                'ksp_type': 'preonly',\n",
        "                'pc_type': 'lu',\n",
        "                'pc_factor_mat_solver_type': 'mumps'\n",
        "            }\n",
        "        }\n",
        "    }\n",
        "}"
      ],
      "metadata": {
        "id": "zzi38FofqBOc"
      },
      "execution_count": null,
      "outputs": []
    },
    {
      "cell_type": "code",
      "source": [
        "import meshes\n",
        "from meshes import primitives"
      ],
      "metadata": {
        "id": "I5ZnBSPwqDON"
      },
      "execution_count": null,
      "outputs": []
    },
    {
      "cell_type": "code",
      "source": [
        "# Mesh\n",
        "\n",
        "Lx = parameters[\"geometry\"][\"Lx\"]\n",
        "Ly = parameters[\"geometry\"][\"Ly\"]\n",
        "geom_type = parameters[\"geometry\"][\"geom_type\"]\n",
        "\n",
        "gmsh_model=mesh_kink('mesh', 15, 25, 1, 2, 1,)\n",
        "\n",
        "mesh, mts = meshes.gmsh_model_to_mesh(gmsh_model,\n",
        "                               cell_data=False,\n",
        "                               facet_data=True,\n",
        "                               gdim=2)\n",
        "\n",
        "\n",
        "from utils.viz import plot_mesh\n",
        "import matplotlib.pyplot as plt\n",
        " \n",
        "#Plot mesh\n",
        "plt.figure()\n",
        "ax = plot_mesh(mesh)\n",
        "fig = ax.get_figure()\n",
        "fig.savefig(f\"mesh.png\")"
      ],
      "metadata": {
        "id": "NJj4JDrIqG-9"
      },
      "execution_count": null,
      "outputs": []
    }
  ]
}