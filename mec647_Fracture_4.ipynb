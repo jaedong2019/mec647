{
  "nbformat": 4,
  "nbformat_minor": 0,
  "metadata": {
    "colab": {
      "name": "MEC647_Fracture_5.ipynb",
      "provenance": [],
      "authorship_tag": "ABX9TyNlEvFHemdR+tNSs/3kQHVY",
      "include_colab_link": true
    },
    "kernelspec": {
      "name": "python3",
      "display_name": "Python 3"
    },
    "language_info": {
      "name": "python"
    }
  },
  "cells": [
    {
      "cell_type": "markdown",
      "metadata": {
        "id": "view-in-github",
        "colab_type": "text"
      },
      "source": [
        "<a href=\"https://colab.research.google.com/github/kumiori/mec647/blob/main/MEC647_Fracture_5.ipynb\" target=\"_parent\"><img src=\"https://colab.research.google.com/assets/colab-badge.svg\" alt=\"Open In Colab\"/></a>"
      ]
    },
    {
      "cell_type": "code",
      "execution_count": 1,
      "metadata": {
        "id": "COSJz3B9oaq1"
      },
      "outputs": [],
      "source": [
        "%%capture\n",
        "import sys\n",
        "\n",
        "try:\n",
        "    import google.colab  # noqa: F401\n",
        "except ImportError:\n",
        "    import ufl  # noqa: F401\n",
        "    import dolfinx  # noqa: F401\n",
        "else:\n",
        "    try:\n",
        "        import ufl\n",
        "        import dolfinx\n",
        "    except ImportError:\n",
        "        !wget \"https://fem-on-colab.github.io/releases/fenicsx-install.sh\" -O \"/tmp/fenicsx-install.sh\" && bash \"/tmp/fenicsx-install.sh\";\n",
        "        import ufl  # noqa: F401\n",
        "        import dolfinx  # noqa: F401\n",
        "\n",
        "try:\n",
        "    import pyvista\n",
        "except ImportError:\n",
        "    !{sys.executable} -m pip install --upgrade pyvista itkwidgets;\n",
        "    import pyvista  # noqa: F401\n",
        "    from pyvista.utilities import xvfb\n",
        "\n",
        "try:\n",
        "    import gmsh\n",
        "except ImportError:\n",
        "    !{sys.executable} -m pip install gmsh\n",
        "    import gmsh\n"
      ]
    },
    {
      "cell_type": "code",
      "source": [
        "%%capture\n",
        "!sudo apt install libgl1-mesa-glx xvfb;\n",
        "!{sys.executable} -m pip install pythreejs;\n",
        "!{sys.executable} -m pip install ipygany;\n",
        "!{sys.executable} -m pip install --upgrade PyYAML\n",
        "# !pip install --ignore-installed PyYAML\n",
        "\n"
      ],
      "metadata": {
        "id": "tBSF2-WEo3Dw"
      },
      "execution_count": 2,
      "outputs": []
    },
    {
      "cell_type": "markdown",
      "source": [
        "# Fracture\n",
        "\n",
        "\n",
        "Let $\\Omega \\subset (0, L)^D$, with $D=1, 2, 3$, $L$ finite, being the (or one) characteristic length of the specimen.\n",
        "For any \n",
        "- displacement field $u\\in V_t : H^1(\\Omega, R^n) + bcs(t)$ with $n=1, 2$ or $3$, and\n",
        "- damage field $\\alpha \\in H^1(\\Omega, R)$,\n",
        "\n",
        "consider the energy $E(u, \\alpha)$ defined as\n",
        "$$\n",
        "E_\\ell(u, \\alpha)=\\frac{1}{2}\\int_\\Omega a(\\alpha) W(u) dx + \\underbrace{\\frac{G_c}{c_w} \\int \\left(\\frac{1}{\\ell}w(\\alpha) + \\ell |\\nabla \\alpha|^2 \\right)dx}_{\\text{Surface energy}}- \\int_\\Omega f.u dx$$\n",
        "\n",
        "In practice, $\\ell \\ll L$.\n",
        "\n",
        "Above, $W$ is the elastic energy density, reading (in linearised elasticity as) \n",
        "$$ W(u) = Ae(u):e(u)\n",
        "$$\n",
        "where $A$ is the 4-th order tensor of elasticity, in the isotropic and homogeneous case, it corresponds to a linear combination with two coefficients, say, $A_0$ the stiffness (dimensional), and $\\nu$ the Poisson ratio (non-dimensional). \n",
        "\n",
        "\n",
        "Further, $w(\\alpha)$ corresponds to the dissipated energy to damage, homogeneously, the specimen, the gradient term accounts for spatial variations.\n",
        "\n",
        "**Keypoint:** these two terms are weighted by $\\ell$, a parameter that is homogeneous to a length and is understood as a *material* quantity (as opposed to *numerical*).\n",
        "\n",
        "Define $D(\\alpha_0):=\\left\\{ \\alpha \\in H^1(\\Omega), \\alpha \\geq \\alpha_0 \\right\\}$, for some $\\alpha_0(x)\\geq 0$ pointwise. \n",
        "\n",
        "We solve two types of problems (by increasing difficulty):\n",
        "- **The static problem**: Given a load (boundary conditions) and an initial state of damage $\\alpha_0$, what is the equilibrium displacement and repartition of damage?\n",
        "In other terms:\n",
        "$$\\operatorname{ min loc} \\left\\{ E_\\ell(u, \\alpha):  u \\in V_t, \\alpha \\in D(\\alpha_0) \\right\\}$$. \n",
        "\n",
        "- **The evolution problem**: Given a load **history** (boundary conditions as a function of $t$) and an initial state of damage $\\alpha_0$, what is the *evolution* of equilibrium displacement and repartition of damage, i.e. \n",
        "the map $t\\mapsto (u_t, \\alpha_t)$, such that \n",
        "  - (Irrevers.) $\\alpha_t \\nearrow t$,\n",
        "  - (Stability) $(u_t, \\alpha_t) = \\operatorname{arg loc min} \\left\\{ E_\\ell (v, \\beta), (v, \\beta) \\in V_t \\times D(\\alpha_t) \\right\\}$ \n",
        "\n"
      ],
      "metadata": {
        "id": "EcWUXPKJo9hJ"
      }
    },
    {
      "cell_type": "markdown",
      "source": [
        "### Parameters\n",
        "\n",
        "In the energy above:\n",
        "- Two elasticity parameters, such as\n",
        "  - $A_0$ the stiffness of the sound material\n",
        "  - $\\nu$ the Poisson ratio\n",
        "  - equivalently, $\\mu, \\lambda$ the Lamé parameters\n",
        "- Two fracture/damage parameters:\n",
        "  - $\\ell$ the internal damage length\n",
        "  - $G_c$ the material toughness\n",
        "\n",
        "\n",
        "### Back of the envelope computation.\n",
        "\n",
        "1. Show that the energy above can be written as a function of only two non-dimensional parameters (ex.: $\\nu, \\tilde \\ell)$, by dimensional analysis."
      ],
      "metadata": {
        "id": "WJD-kxygsGbY"
      }
    },
    {
      "cell_type": "code",
      "source": [
        "# library include\n",
        "\n",
        "import numpy as np\n",
        "import yaml\n",
        "import json\n",
        "import sys\n",
        "import os\n",
        "from pathlib import Path\n",
        "\n",
        "from mpi4py import MPI\n",
        "\n",
        "import petsc4py\n",
        "from petsc4py import PETSc\n",
        "\n",
        "import dolfinx\n",
        "import dolfinx.plot\n",
        "from dolfinx import log\n",
        "import ufl\n",
        "\n",
        "\n",
        "from dolfinx.io import XDMFFile\n",
        "\n",
        "import logging\n",
        "\n",
        "logging.basicConfig(level=logging.INFO)\n",
        "\n",
        "import dolfinx\n",
        "import dolfinx.plot\n",
        "import dolfinx.io\n",
        "from dolfinx.fem import (\n",
        "    Constant,\n",
        "    Function,\n",
        "    FunctionSpace,\n",
        "    assemble_scalar,\n",
        "    dirichletbc,\n",
        "    form,\n",
        "    locate_dofs_geometrical,\n",
        "    set_bc,\n",
        ")\n",
        "import matplotlib.pyplot as plt"
      ],
      "metadata": {
        "id": "lFtD4YbOo8XQ"
      },
      "execution_count": 3,
      "outputs": []
    },
    {
      "cell_type": "code",
      "source": [
        "!rm -rf mec647\n",
        "try:\n",
        "  !git clone https://github.com/kumiori/mec647.git\n",
        "except Exception:\n",
        "  print('Something went wrong')\n",
        "  !rm -rf mec647\n",
        "  !git clone https://github.com/kumiori/mec647.git\n"
      ],
      "metadata": {
        "colab": {
          "base_uri": "https://localhost:8080/"
        },
        "id": "orO11tuOt6mH",
        "outputId": "f79411a1-28b7-44d3-a399-d43ef986a38e"
      },
      "execution_count": 4,
      "outputs": [
        {
          "output_type": "stream",
          "name": "stdout",
          "text": [
            "Cloning into 'mec647'...\n",
            "remote: Enumerating objects: 588, done.\u001b[K\n",
            "remote: Counting objects: 100% (588/588), done.\u001b[K\n",
            "remote: Compressing objects: 100% (479/479), done.\u001b[K\n",
            "remote: Total 588 (delta 258), reused 259 (delta 90), pack-reused 0\u001b[K\n",
            "Receiving objects: 100% (588/588), 12.30 MiB | 18.36 MiB/s, done.\n",
            "Resolving deltas: 100% (258/258), done.\n"
          ]
        }
      ]
    },
    {
      "cell_type": "code",
      "source": [
        "sys.path.append('mec647/')\n",
        "\n",
        "# meshes\n",
        "import meshes\n",
        "from meshes import primitives\n"
      ],
      "metadata": {
        "id": "7TQ7P9J1t-uK"
      },
      "execution_count": 5,
      "outputs": []
    },
    {
      "cell_type": "code",
      "source": [
        "# Parameters\n",
        "\n",
        "parameters = {\n",
        "    'loading': {\n",
        "        'min': 0,\n",
        "        'max': 1,\n",
        "        'nteps': 10\n",
        "    },\n",
        "    'geometry': {\n",
        "        'geom_type': 'bar',\n",
        "        'Lx': 1.,\n",
        "        'Ly': 0.1\n",
        "    },\n",
        "    'model': {\n",
        "        'E': 1.,\n",
        "        'nu': 0.,\n",
        "        'w1': 1.,\n",
        "        'ell': 0.1,\n",
        "        'k_res': 1.e-8\n",
        "    },\n",
        "    'solvers': {\n",
        "          'elasticity': {        \n",
        "            'snes': {\n",
        "                'snes_type': 'newtontr',\n",
        "                'snes_stol': 1e-8,\n",
        "                'snes_atol': 1e-8,\n",
        "                'snes_rtol': 1e-8,\n",
        "                'snes_max_it': 100,\n",
        "                'snes_monitor': \"\",\n",
        "                'ksp_type': 'preonly',\n",
        "                'pc_type': 'lu',\n",
        "                'pc_factor_mat_solver_type': 'mumps'\n",
        "            }\n",
        "        },\n",
        "          'damage': {        \n",
        "            'snes': {\n",
        "                'snes_type': 'vinewtonrsls',\n",
        "                'snes_stol': 1e-5,\n",
        "                'snes_atol': 1e-5,\n",
        "                'snes_rtol': 1e-8,\n",
        "                'snes_max_it': 100,\n",
        "                'snes_monitor': \"\",\n",
        "                'ksp_type': 'preonly',\n",
        "                'pc_type': 'lu',\n",
        "                'pc_factor_mat_solver_type': 'mumps'\n",
        "            }\n",
        "        }\n",
        "    }\n",
        "}"
      ],
      "metadata": {
        "id": "VmTxHWOnuCc0"
      },
      "execution_count": 6,
      "outputs": []
    },
    {
      "cell_type": "code",
      "source": [
        "# Mesh\n",
        "\n",
        "Lx = parameters[\"geometry\"][\"Lx\"]\n",
        "Ly = parameters[\"geometry\"][\"Ly\"]\n",
        "geom_type = parameters[\"geometry\"][\"geom_type\"]\n",
        "\n",
        "gmsh_model, tdim = primitives.mesh_bar_gmshapi(geom_type,\n",
        "                                    Lx, \n",
        "                                    Ly, \n",
        "                                    0.03, \n",
        "                                    tdim=2)\n",
        "\n",
        "mesh, mts = meshes.gmsh_model_to_mesh(gmsh_model,\n",
        "                               cell_data=False,\n",
        "                               facet_data=True,\n",
        "                               gdim=2)\n",
        "\n",
        "\n",
        "from utils.viz import plot_mesh\n",
        "\n",
        "plt.figure()\n",
        "ax = plot_mesh(mesh)\n",
        "fig = ax.get_figure()\n",
        "fig.savefig(f\"mesh.png\")\n"
      ],
      "metadata": {
        "colab": {
          "base_uri": "https://localhost:8080/",
          "height": 84
        },
        "id": "DJ8Wv9MHur-c",
        "outputId": "b885c64d-4498-4f02-8d6c-083ff3a05821"
      },
      "execution_count": 7,
      "outputs": [
        {
          "output_type": "display_data",
          "data": {
            "image/png": "[encoded data removed]",
            "text/plain": [
              "<Figure size 432x288 with 1 Axes>"
            ]
          },
          "metadata": {
            "needs_background": "light"
          }
        }
      ]
    },
    {
      "cell_type": "code",
      "source": [
        "# Functional Setting\n",
        "\n",
        "element_u = ufl.VectorElement(\"Lagrange\", mesh.ufl_cell(),\n",
        "                              degree=1, dim=2)\n",
        "\n",
        "element_alpha = ufl.FiniteElement(\"Lagrange\", mesh.ufl_cell(),\n",
        "                              degree=1)\n",
        "\n",
        "V_u = dolfinx.fem.FunctionSpace(mesh, element_u) \n",
        "V_alpha = dolfinx.fem.FunctionSpace(mesh, element_alpha) \n",
        "\n",
        "u = dolfinx.fem.Function(V_u, name=\"Displacement\")\n",
        "u_ = dolfinx.fem.Function(V_u, name=\"BoundaryDisplacement\")\n",
        "\n",
        "\n",
        "alpha = dolfinx.fem.Function(V_alpha, name=\"Damage\")\n",
        "\n",
        "# Bounds\n",
        "alpha_ub = dolfinx.fem.Function(V_alpha, name=\"UpperBoundDamage\")\n",
        "alpha_lb = dolfinx.fem.Function(V_alpha, name=\"LowerBoundDamage\")\n",
        "\n",
        "dx = ufl.Measure(\"dx\", domain = mesh)\n",
        "ds = ufl.Measure(\"ds\", domain = mesh)\n",
        "# dS = ufl.Measure(\"dS\", domain = mesh)  - inner boundaries of the mesh\n"
      ],
      "metadata": {
        "id": "mNPMlPf6u834"
      },
      "execution_count": 15,
      "outputs": []
    },
    {
      "cell_type": "code",
      "source": [
        "# Boundary sets\n",
        "\n",
        "dofs_alpha_left = locate_dofs_geometrical(V_alpha, lambda x: np.isclose(x[0], 0.))\n",
        "dofs_alpha_right = locate_dofs_geometrical(V_alpha, lambda x: np.isclose(x[0], Lx))\n",
        "\n",
        "dofs_u_left = locate_dofs_geometrical(V_u, lambda x: np.isclose(x[0], 0.))\n",
        "dofs_u_right = locate_dofs_geometrical(V_u, lambda x: np.isclose(x[0], Lx))"
      ],
      "metadata": {
        "id": "90IkvYX3v4Tg"
      },
      "execution_count": 10,
      "outputs": []
    },
    {
      "cell_type": "code",
      "source": [
        "dofs_alpha_right"
      ],
      "metadata": {
        "colab": {
          "base_uri": "https://localhost:8080/"
        },
        "id": "sXzcxAmIxQj7",
        "outputId": "41459ed3-dc20-4ea0-89f3-4c1fd11c87d4"
      },
      "execution_count": 12,
      "outputs": [
        {
          "output_type": "execute_result",
          "data": {
            "text/plain": [
              "array([172, 174, 177, 179, 180], dtype=int32)"
            ]
          },
          "metadata": {},
          "execution_count": 12
        }
      ]
    },
    {
      "cell_type": "code",
      "source": [
        "# Boundary conditions\n",
        "\n",
        "bcs_u = [\n",
        "         dirichletbc(np.array([0., 0.], dtype=PETSc.ScalarType),\n",
        "                      dofs_u_left,\n",
        "                      V_u),\n",
        "         dirichletbc(np.array([1., 0.], dtype=PETSc.ScalarType),\n",
        "                      dofs_u_right,\n",
        "                      V_u)\n",
        "         ]\n",
        "\n",
        "bcs_alpha = [\n",
        "             dirichletbc(np.array(0., dtype = PETSc.ScalarType),\n",
        "                         np.concatenate([dofs_alpha_left, dofs_alpha_right]),\n",
        "                         V_alpha)\n",
        "]\n"
      ],
      "metadata": {
        "id": "qs9pOAFNwS2e"
      },
      "execution_count": 13,
      "outputs": []
    },
    {
      "cell_type": "code",
      "source": [
        "# Update the bounds\n",
        "set_bc(alpha_ub.vector, bcs_alpha)\n",
        "set_bc(alpha_lb.vector, bcs_alpha)"
      ],
      "metadata": {
        "id": "V-eZmMf5w1Bh"
      },
      "execution_count": 16,
      "outputs": []
    },
    {
      "cell_type": "code",
      "source": [
        "import models\n",
        "from models import DamageElasticityModel as Brittle"
      ],
      "metadata": {
        "id": "RVB-tYw0xmMW"
      },
      "execution_count": 18,
      "outputs": []
    },
    {
      "cell_type": "code",
      "source": [
        "dir(Brittle)"
      ],
      "metadata": {
        "colab": {
          "base_uri": "https://localhost:8080/"
        },
        "id": "G0PXkifMx4lU",
        "outputId": "e70ef426-7849-4289-8dc6-d45ded2e7b41"
      },
      "execution_count": 20,
      "outputs": [
        {
          "output_type": "execute_result",
          "data": {
            "text/plain": [
              "['__class__',\n",
              " '__delattr__',\n",
              " '__dict__',\n",
              " '__dir__',\n",
              " '__doc__',\n",
              " '__eq__',\n",
              " '__format__',\n",
              " '__ge__',\n",
              " '__getattribute__',\n",
              " '__gt__',\n",
              " '__hash__',\n",
              " '__init__',\n",
              " '__init_subclass__',\n",
              " '__le__',\n",
              " '__lt__',\n",
              " '__module__',\n",
              " '__ne__',\n",
              " '__new__',\n",
              " '__reduce__',\n",
              " '__reduce_ex__',\n",
              " '__repr__',\n",
              " '__setattr__',\n",
              " '__sizeof__',\n",
              " '__str__',\n",
              " '__subclasshook__',\n",
              " '__weakref__',\n",
              " 'a',\n",
              " 'damage_dissipation_density',\n",
              " 'elastic_energy_density',\n",
              " 'elastic_energy_density_strain',\n",
              " 'eps',\n",
              " 'stress',\n",
              " 'stress0',\n",
              " 'total_energy_density',\n",
              " 'w']"
            ]
          },
          "metadata": {},
          "execution_count": 20
        }
      ]
    },
    {
      "cell_type": "code",
      "source": [
        "model = Brittle(parameters.get('model'))\n",
        "\n",
        "state = {'u': u, 'alpha': alpha}\n"
      ],
      "metadata": {
        "id": "Zx4JR8HeyK8o"
      },
      "execution_count": 26,
      "outputs": []
    },
    {
      "cell_type": "code",
      "source": [
        "dir(model);"
      ],
      "metadata": {
        "id": "whADtK2XyfTL"
      },
      "execution_count": 25,
      "outputs": []
    },
    {
      "cell_type": "code",
      "source": [
        "total_energy = model.total_energy_density(state) * dx"
      ],
      "metadata": {
        "id": "o7hKwVZnyqCt"
      },
      "execution_count": 27,
      "outputs": []
    },
    {
      "cell_type": "code",
      "source": [
        ""
      ],
      "metadata": {
        "id": "LUTSz1L-zJr5"
      },
      "execution_count": null,
      "outputs": []
    }
  ]
}
